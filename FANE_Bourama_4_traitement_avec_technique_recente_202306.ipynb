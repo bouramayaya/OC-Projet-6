{
 "cells": [
  {
   "cell_type": "markdown",
   "metadata": {},
   "source": [
    "### <p style=\"background-color:#627D50;color:#D1CABD;font-size:110%;text-align:center;border-radius:20px 60px;  border: 10px solid #cfcfcf;  padding-top: 10px;  padding-left: 10px;  padding-right: 10px; padding-bottom: 10px;  border-radius: 80px 20px;line-height: 1.2em; margin-bottom: 10px;\"> **Projet 6** : Classifiez automatiquement des biens de consommation </p>\n",
    "\n",
    "<img src=\"place_marche.png\" align=\"right\" alt=\"Alternative text\" />\n",
    "\n",
    "Vous êtes ***Data Scientist*** au sein de l'entreprise ***Place de marché***, qui souhaite lancer une marketplace e-commerce.\n",
    "\n",
    "Sur la place de marché, des vendeurs proposent des articles à des acheteurs en postant une photo et une description.\n",
    "\n",
    "Pour l'instant, l'attribution de la catégorie d'un article est effectuée manuellement par les vendeurs, et est donc **peu fiable**. De plus, le volume des articles est pour l'instant très petit.\n",
    "\n",
    "Pour une meilleure expérience des vendeurs et des acheteurs, et dans l'optique d'un passage à l'échelle, ***il devient nécessaire d'automatiser cette tâche***.\n",
    "\n",
    "*************************\n",
    "- Mentor [**Babou M'BAYE**]()\n",
    "- Etudiant [**Bourama FANE**](https://www.linkedin.com/in/bourama-fan%C3%A9-7aba41141/)\n",
    "- Parcours [*Data Scientist*]()\n",
    "- Ecole [*OpenClassrooms*](https://openclassrooms.com/fr)\n",
    "- Date : [Juillet 2023]()"
   ]
  },
  {
   "cell_type": "markdown",
   "metadata": {},
   "source": [
    "<!-- <style>\n",
    ".right-align {\n",
    "    text-align: right;\n",
    "}\n",
    "</style>\n",
    "\n",
    "<ul class=\"right-align\">\n",
    "    <li>Mentor [**Babou M'BAYE**]()</li>\n",
    "    <li>Etudiant [**Bourama FANE**](https://www.linkedin.com/in/bourama-fan%C3%A9-7aba41141/){:target=\"_blank\"}</li>\n",
    "    <li>Parcours [*Data Scientiste*]()</li>\n",
    "</ul>\n",
    "--- -->"
   ]
  },
  {
   "cell_type": "markdown",
   "metadata": {},
   "source": [
    "[<font color=\"#337da4\"> <h5> Problématique](#contexte)</h5>\n",
    "[<font color=\"#337da4\"> <h5> Librairies](#lib)</h5>\n",
    "[<font color=\"#337da4\"> <h5> 1. Chargement et split des données ](#1)</h5> \n",
    "[<font color=\"#337da4\"> <h5> 2. Classification supervisée](#2)</h5> \n",
    "[<font color=\"#337da4\"> <h5> 3. Data augmentation](#3)</h5>\n",
    "[<font color=\"#337da4\"> <h5> 4. API](#4)</h5>\n",
    "    "
   ]
  },
  {
   "cell_type": "markdown",
   "metadata": {},
   "source": [
    "### <font color=\"#337da4\" id=\"contexte\">Problématique </font>\n",
    "----------------------------"
   ]
  },
  {
   "cell_type": "markdown",
   "metadata": {},
   "source": [
    "**Contexte**\n",
    "*****\n",
    "L' entreprise **Place de marché souhaite** lancer une marketplace e-commerce. Pour cela, les vendeurs doivent attribuer une catégorie manuellement à leurs produits à partir d'une description et d'une photo.  Afin de passer à une plus large échelle et faciliter le processus, il devient nécessaire d'automatiser cette tâche.\n",
    "\n",
    "**Mission**\n",
    "*****\n",
    "Réaliser une première **étude de faisabilité** d'un moteur de **classification d'articles** basé sur une **image et une description** pour l'**automatisation** de l'attribution de la **catégorie de l'article**.\n",
    "\n",
    "**Objectifs**\n",
    "*****\n",
    "- analyser le jeu de données,\n",
    "- réaliser :\n",
    "    > un prétraitement des descriptions des produits<br>\n",
    "    > une réduction de dimension, <br>\n",
    "    > un prétraitement des images,<br>\n",
    "    > puis un clustering. \n",
    "\n",
    "La représentation graphique aidera à convaincre que cette approche de modélisation permettra bien de regrouper des produits de même catégorie.\n",
    "\n",
    "**Contraintes**\n",
    "*****\n",
    "\n",
    "Afin d'extraire les features texte, il sera nécessaire de mettre en oeuvre : \n",
    "- deux approches de type **bag-of-words**, comptage simple de mots et **Tf-idf** ;<br>\n",
    "- une approche de type **word/sentence embedding** classique avec Word2Vec (ou Glove ou FastText) ;<br>\n",
    "- une approche de type word/sentence embedding avec **BERT** ;<br>\n",
    "- une approche de type word/sentence embedding avec **USE** (Universal Sentence Encoder). \n",
    "\n",
    "**Sources**\n",
    "*****\n",
    "\n",
    "Pour cette mission, le jeu de données est disponible [ici](https://s3-eu-west-1.amazonaws.com/static.oc-static.com/prod/courses/files/Parcours_data_scientist/Projet+-+Textimage+DAS+V2/Dataset+projet+pre%CC%81traitement+textes+images.zip)\n",
    "\n",
    "**Livrables :**\n",
    "\n",
    "Afin de répondre à cette mission, trois notebook seront été réalisés : \n",
    ">  ***Notebook 1*** : Analyse des données textuelles (description) et clusterisation <br>\n",
    ">  ***Notebook 2*** : Analyse des données visuelles (images) et clusterisation<br>\n",
    ">  ***Notebook 3*** : Combinaison du meilleur modèle de texte et d'image et classification supervisée<br>\n",
    ">  ***Presentation***: Support de presentation. "
   ]
  },
  {
   "cell_type": "code",
   "execution_count": 1,
   "metadata": {},
   "outputs": [
    {
     "name": "stdout",
     "output_type": "stream",
     "text": [
      "CPU times: total: 4.81 s\n",
      "Wall time: 18.5 s\n"
     ]
    }
   ],
   "source": [
    "%%time\n",
    "# Built-in\n",
    "import os, warnings \n",
    "from tqdm import tqdm\n",
    "# from tqdm.notebook import tqdm\n",
    "\n",
    "# Data\n",
    "import numpy as np\n",
    "import pandas as pd\n",
    "import sidetable\n",
    "\n",
    "#Visualisation\n",
    "import matplotlib.pyplot as plt\n",
    "import matplotlib.image as mpimg\n",
    "import missingno as msno\n",
    "import seaborn as sns\n",
    "from wordcloud import WordCloud\n",
    "from PIL import Image\n",
    "import plotly.express as px\n",
    "# !pip install dataframe_to_image\n",
    "import dataframe_image as dfi\n",
    "\n",
    "# NLP\n",
    "import nltk #/!\\ attention use nltk.download('punkt')\n",
    "from nltk.stem.snowball import EnglishStemmer\n",
    "from nltk.stem import WordNetLemmatizer, PorterStemmer\n",
    "from nltk.tokenize import word_tokenize, wordpunct_tokenize, RegexpTokenizer\n",
    "from nltk.corpus import words, stopwords\n",
    "\n",
    "\n",
    "# Cluster\n",
    "from sklearn.cluster import KMeans, MiniBatchKMeans, DBSCAN\n",
    "from sklearn.manifold import TSNE\n",
    "from sklearn.decomposition import PCA\n",
    "from sklearn.feature_extraction.text import TfidfVectorizer, CountVectorizer\n",
    "from sklearn.metrics import silhouette_score, adjusted_rand_score, silhouette_samples\n",
    "from sklearn.manifold import TSNE\n",
    "from sklearn.decomposition import PCA\n",
    "from sklearn.metrics import confusion_matrix\n",
    "from sklearn.metrics import accuracy_score, precision_score, recall_score, f1_score\n",
    "\n",
    "# Les bibliothèques tensorflow.keras \n",
    "from tqdm import tqdm\n",
    "from tensorflow.keras.preprocessing.image import load_img, img_to_array\n",
    "from tensorflow.keras.models import Model  # Import the Model class\n",
    "from tensorflow.keras.callbacks import ModelCheckpoint\n",
    "from tensorflow.keras.callbacks import EarlyStopping\n",
    "from plot_keras_history import show_history, plot_history\n",
    "from tensorflow.keras.models import load_model\n",
    "\n",
    "# Modele\n",
    "from tensorflow.keras.applications.vgg16 import VGG16\n",
    "from tensorflow.keras.applications.xception import Xception\n",
    "from tensorflow.keras.applications.vgg19 import VGG19\n",
    "from tensorflow.keras.applications.resnet50 import ResNet50\n",
    "\n",
    "# metrics, classification_repo\n",
    "from sklearn.metrics import accuracy_score, classification_report\n",
    "from sklearn.metrics import (silhouette_samples,silhouette_score, adjusted_rand_score,\n",
    "                             adjusted_mutual_info_score,confusion_matrix, pair_confusion_matrix,\n",
    "                            ConfusionMatrixDisplay)\n",
    "\n",
    "# date\n",
    "from datetime import date, time, datetime, timedelta\n",
    "from dateutil.relativedelta import relativedelta\n",
    "\n",
    "# from markdown import Markdown\n",
    "from IPython.display import display, Markdown\n",
    "import warnings\n",
    "warnings.filterwarnings(\"ignore\")\n",
    "\n",
    "from pandarallel import pandarallel\n",
    "\n",
    "# Chemin\n",
    "# imgPath='C:/Users/Fane0763/OpenClassroom/OC Projet 6/Graphs/'\n",
    "SAVE_IMAGES = True\n",
    "\n",
    "# Nombre aléatoire pour la reproductibilité des résultats\n",
    "random_state = 42\n",
    "\n",
    "class clr:\n",
    "    start = '\\033[93m'+'\\033[1m'\n",
    "    color = '\\033[93m'\n",
    "    end = '\\033[0m'\n",
    "    \n",
    "# Affichage des valeurs\n",
    "# pd.set_option('display.max_colwidth', None)\n",
    "\n",
    "# Police et reglages\n",
    "font_title = {'family': 'serif', 'color':  '#114b98', 'weight': 'bold', 'size': 16,}\n",
    "font_title2 = {'family': 'serif', 'color':  '#114b98', 'weight': 'bold', 'size': 12,}\n",
    "font_title3 = {'family': 'serif', 'color':  '#4F6272', 'weight': 'bold', 'size': 10,}\n",
    "\n",
    "mycolors = [\"black\", \"hotpink\", \"b\", \"#4CAF50\"]\n",
    "AllColors=['#99ff99', '#66b3ff', '#4F6272', '#B7C3F3', '#ff9999', '#ffcc99', '#ff6666', '#DD7596', '#8EB897',\n",
    "           '#c2c2f0', '#DDA0DD', '#1f77b4', '#ff7f0e', '#2ca02c', '#d62728', '#9467bd', '#8c564b', '#e377c2', \n",
    "           '#7f7f7f', '#bcbd22', '#17becf', '#e41a1c', '#377eb8', '#4daf4a', '#984ea3', '#ff7f00', '#ffff33',\n",
    "           '#a65628', '#f781bf', \"#E69F00\", \"#56B4E9\", \"#009E73\", \"#F0E442\", \"#0072B2\", \"#D55E00\", \"#CC79A7\", \"#000000\"]\n",
    "\n",
    "%matplotlib inline"
   ]
  },
  {
   "cell_type": "code",
   "execution_count": 2,
   "metadata": {},
   "outputs": [
    {
     "name": "stdout",
     "output_type": "stream",
     "text": [
      "./Flipkart/Graphs\n"
     ]
    }
   ],
   "source": [
    "# Appel de mes propres functions\n",
    "from function_cp import *"
   ]
  },
  {
   "cell_type": "code",
   "execution_count": 3,
   "metadata": {},
   "outputs": [
    {
     "name": "stdout",
     "output_type": "stream",
     "text": [
      "Le code s'exécute dans un environnement local.\n"
     ]
    }
   ],
   "source": [
    "import sys\n",
    "\n",
    "def is_colab_environment():\n",
    "    # Vérifier si le module 'google.colab' est présent dans la liste des modules importés\n",
    "    return 'google.colab' in sys.modules\n",
    "\n",
    "# Exemple d'utilisation\n",
    "if is_colab_environment():\n",
    "    print(\"Le code s'exécute dans l'environnement Google Colab.\")\n",
    "else:\n",
    "    print(\"Le code s'exécute dans un environnement local.\")\n"
   ]
  },
  {
   "cell_type": "code",
   "execution_count": 4,
   "metadata": {},
   "outputs": [],
   "source": [
    "# --------------------------------------------------------------------\n",
    "# Fonction pour créer un dossier s'il n'existe pas déjà\n",
    "# --------------------------------------------------------------------\n",
    "def os_make_dir(folder):\n",
    "    if not os.path.exists(folder):\n",
    "        os.makedirs(folder)\n",
    "\n",
    "\n",
    "# --------------------------------------------------------------------\n",
    "# Fonction pour rejoindre un dossier et un fichier\n",
    "# --------------------------------------------------------------------\n",
    "def os_path_join(folder, file):\n",
    "    \"\"\"Remplacement pour `os.path.join(folder, file)` sur Windows\"\"\"\n",
    "    return f'{folder}/{file}'"
   ]
  },
  {
   "cell_type": "code",
   "execution_count": 5,
   "metadata": {},
   "outputs": [
    {
     "name": "stdout",
     "output_type": "stream",
     "text": [
      "./Flipkart/Graphs\n"
     ]
    },
    {
     "data": {
      "text/plain": [
       "['.ipynb_checkpoints',\n",
       " 'BERT2_features.csv',\n",
       " 'BERT_features.csv',\n",
       " 'BOW_features.csv',\n",
       " 'classification']"
      ]
     },
     "execution_count": 5,
     "metadata": {},
     "output_type": "execute_result"
    }
   ],
   "source": [
    "# Configuration des chemins de dossiers pour les différents environnements\n",
    "if not is_colab_environment():\n",
    "    # Développement local\n",
    "    DATA_FOLDER = './Flipkart'\n",
    "    # Création d'une variable IMG_FOLDER pour le chemin complet du dossier d'images\n",
    "    IMG_FOLDER = os_path_join(DATA_FOLDER,'Images')\n",
    "    OUT_FOLDER = f'{DATA_FOLDER}/output'\n",
    "    IMAGE_FOLDER = f'{DATA_FOLDER}/Images'\n",
    "    GRAPH_FOLDER= os_path_join(DATA_FOLDER,'Graphs') # graphique pour les diapos\n",
    "    IMG_FOLDER_PROCESS=os_path_join(DATA_FOLDER,'Images_process') # Images traitées\n",
    "\n",
    "    \n",
    "# Définition des chemins de dossiers pour l'environnement Colab\n",
    "if is_colab_environment():\n",
    "    # Colaboratory - décommentez les 2 lignes suivantes pour connecter à votre drive\n",
    "    # from google.colab import drive\n",
    "    # drive.mount('/content/drive')\n",
    "    DATA_FOLDER = '/content/drive/MyDrive/OC-Projet-6'\n",
    "    \n",
    "    # Création d'une variable IMG_FOLDER pour le chemin complet du dossier d'images\n",
    "    IMG_FOLDER = os_path_join(DATA_FOLDER,'Flipkart/Images')\n",
    "    OUT_FOLDER = f'{DATA_FOLDER}/Flipkart/output'\n",
    "    IMAGE_FOLDER = f'{DATA_FOLDER}/Flipkart/Images'\n",
    "    GRAPH_FOLDER= os_path_join(DATA_FOLDER,'Flipkart/Graphs') # graphique pour les diapos\n",
    "    IMG_FOLDER_PROCESS=os_path_join(DATA_FOLDER,'Flipkart/Images_process') # Images traitées\n",
    "\n",
    "SAVE_IMAGES = True\n",
    "# imgPath = f'{DATA_FOLDER}/Graphs'\n",
    "# if not os.path.exists(imgPath[:-1]):\n",
    "#     os.makedirs(imgPath[:-1])\n",
    "\n",
    "# Crée les dossiers spécifiés s'ils n'existent pas déjà\n",
    "os_make_dir(IMAGE_FOLDER)\n",
    "os_make_dir(OUT_FOLDER)\n",
    "os_make_dir(GRAPH_FOLDER)  # graphique pour les diapos\n",
    "os_make_dir(IMG_FOLDER_PROCESS)\n",
    "imgPath=f'{GRAPH_FOLDER}/'\n",
    "print(GRAPH_FOLDER)  \n",
    "os.listdir(DATA_FOLDER)[:5]"
   ]
  },
  {
   "cell_type": "code",
   "execution_count": 6,
   "metadata": {},
   "outputs": [
    {
     "name": "stderr",
     "output_type": "stream",
     "text": [
      "'apt-get' n'est pas reconnu en tant que commande interne\n",
      "ou externe, un programme ex‚cutable ou un fichier de commandes.\n"
     ]
    },
    {
     "name": "stdout",
     "output_type": "stream",
     "text": [
      "Structure du dossier\n",
      "Le num‚ro de s‚rie du volume est 000000B6 146C:0F91\n",
      "C:\\USERS\\FANE0763\\OPENCLASSROOM\\OC PROJET 6\\-D\n",
      "Chemin d'accŠs non valide - \\USERS\\FANE0763\\OPENCLASSROOM\\OC PROJET 6\\-D\n",
      "Aucun sous-dossier existant \n",
      "\n"
     ]
    }
   ],
   "source": [
    "# !apt-get install tree\n",
    "# #clear_output()\n",
    "# # create new folders\n",
    "# # !mkdir TRAIN TEST VAL TRAIN/YES TRAIN/NO TEST/YES TEST/NO VAL/YES VAL/NO\n",
    "# !tree -d"
   ]
  },
  {
   "cell_type": "code",
   "execution_count": 7,
   "metadata": {
    "tags": []
   },
   "outputs": [],
   "source": [
    "import os\n",
    "def afficher_arborescence(dossier, niveau=0):\n",
    "    contenu = os.listdir(dossier)\n",
    "    for element in contenu:\n",
    "        chemin = os.path.join(dossier, element)\n",
    "        if os.path.isdir(chemin):\n",
    "            print(\"  \" * niveau + f\"📁 {element}/\")\n",
    "            afficher_arborescence(chemin, niveau + 1)\n",
    "        else:\n",
    "            print(\"  \" * niveau + f\"📄 {element}\")\n",
    "\n",
    "# Remplacez le chemin ci-dessous par le chemin absolu du dossier que vous souhaitez afficher\n",
    "# chemin_dossier = \"./\"\n",
    "# afficher_arborescence(chemin_dossier)"
   ]
  },
  {
   "cell_type": "code",
   "execution_count": 8,
   "metadata": {
    "tags": []
   },
   "outputs": [],
   "source": [
    "import os\n",
    "\n",
    "def afficher_schema_arborescence(dossier, prefixe=\"\"):\n",
    "    contenu = os.listdir(dossier)\n",
    "    taille_contenu = len(contenu)\n",
    "\n",
    "    for index, element in enumerate(contenu):\n",
    "        est_dernier = index == taille_contenu - 1\n",
    "        marqueur = \"└── \" if est_dernier else \"├── \"\n",
    "\n",
    "        chemin = os.path.join(dossier, element)\n",
    "        est_dossier = os.path.isdir(chemin)\n",
    "\n",
    "        print(prefixe + marqueur + element)\n",
    "        \n",
    "        if est_dossier:\n",
    "            nouveau_prefixe = prefixe + (\"    \" if est_dernier else \"│   \")\n",
    "            afficher_schema_arborescence(chemin, nouveau_prefixe)\n",
    "\n",
    "# Remplacez le chemin ci-dessous par le chemin absolu du dossier que vous souhaitez afficher\n",
    "# print(chemin_dossier)\n",
    "# afficher_schema_arborescence(chemin_dossier)"
   ]
  },
  {
   "cell_type": "code",
   "execution_count": 9,
   "metadata": {},
   "outputs": [],
   "source": [
    "def fig_name_cleaning(fig_name: str) -> str:\n",
    "    \"\"\"Enlever les caractères interdits dans les filenames ou filepaths\"\"\"\n",
    "    return fig_name.replace(' ', '_').replace(':', '-').replace(\n",
    "        '.', '-').replace('/', '_').replace('>', 'gt.').replace('<', 'lt.')\n",
    "\n",
    "\n",
    "def to_png(fig_name=None) -> None:\n",
    "    \"\"\"\n",
    "    Register the current plot figure as an image in a file.\n",
    "    Must call plt.show() or show image (by calling to_png() as last row in python cell)\n",
    "    to apply the call 'bbox_inches=tight', to be sure to include the whole title / legend\n",
    "    in the plot area.\n",
    "    \"\"\"\n",
    "\n",
    "    def get_title() -> str:\n",
    "        \"\"\"find current plot title (or suptitle if more than one plot)\"\"\"\n",
    "        if plt.gcf()._suptitle is None:  # noqa\n",
    "            return plt.gca().get_title()\n",
    "        else:\n",
    "            return plt.gcf()._suptitle.get_text()  # noqa\n",
    "\n",
    "    if SAVE_IMAGES:\n",
    "        if fig_name is None:\n",
    "            fig_name = get_title()\n",
    "        elif len(fig_name) < 9:\n",
    "            fig_name = f'{fig_name}_{get_title()}'\n",
    "        fig_name = fig_name_cleaning(fig_name)\n",
    "        print(f'\"{fig_name}.png\"')\n",
    "        plt.gcf().savefig(\n",
    "            # f'{IMAGE_FOLDER}/{fig_name}.png', bbox_inches='tight')\n",
    "            imgPath+f'{fig_name}.png', bbox_inches='tight')\n"
   ]
  },
  {
   "cell_type": "code",
   "execution_count": null,
   "metadata": {},
   "outputs": [],
   "source": []
  },
  {
   "cell_type": "code",
   "execution_count": 10,
   "metadata": {},
   "outputs": [
    {
     "name": "stdout",
     "output_type": "stream",
     "text": [
      "Le dossier './Flipkart/train' et son contenu ont été supprimés avec succès.\n",
      "Le dossier './Flipkart/validation' et son contenu ont été supprimés avec succès.\n",
      "Le dossier './Flipkart/test' et son contenu ont été supprimés avec succès.\n"
     ]
    }
   ],
   "source": [
    "import os\n",
    "import shutil\n",
    "from sklearn.model_selection import train_test_split\n",
    "# Chemin vers le dossier contenant toutes les images\n",
    "data_dir        =  IMG_FOLDER\n",
    "# Chemin vers le dossier du jeu de données\n",
    "dataset_dir     =  DATA_FOLDER\n",
    "train_dir       =  os_path_join(dataset_dir, 'train')\n",
    "validation_dir  =  os_path_join(dataset_dir, 'validation')\n",
    "test_dir        =  os_path_join(dataset_dir, 'test')\n",
    "\n",
    "for folder in [train_dir, validation_dir, test_dir]:\n",
    "    try:\n",
    "        shutil.rmtree(folder)\n",
    "        print(f\"Le dossier '{folder}' et son contenu ont été supprimés avec succès.\")\n",
    "    except OSError as e:\n",
    "        print(f\"{e}\")"
   ]
  },
  {
   "cell_type": "code",
   "execution_count": 11,
   "metadata": {},
   "outputs": [
    {
     "name": "stdout",
     "output_type": "stream",
     "text": [
      "./Flipkart/train\n"
     ]
    }
   ],
   "source": [
    "os_make_dir(train_dir)\n",
    "os_make_dir(validation_dir)\n",
    "os_make_dir(test_dir)\n",
    "print(train_dir)"
   ]
  },
  {
   "cell_type": "markdown",
   "metadata": {},
   "source": [
    "### <font color=\"#337da4\" id=\"1\">1. Chargement et split des données </font>\n",
    "----------------------------"
   ]
  },
  {
   "cell_type": "code",
   "execution_count": 12,
   "metadata": {},
   "outputs": [
    {
     "data": {
      "text/html": [
       "<div>\n",
       "<style scoped>\n",
       "    .dataframe tbody tr th:only-of-type {\n",
       "        vertical-align: middle;\n",
       "    }\n",
       "\n",
       "    .dataframe tbody tr th {\n",
       "        vertical-align: top;\n",
       "    }\n",
       "\n",
       "    .dataframe thead th {\n",
       "        text-align: right;\n",
       "    }\n",
       "</style>\n",
       "<table border=\"1\" class=\"dataframe\">\n",
       "  <thead>\n",
       "    <tr style=\"text-align: right;\">\n",
       "      <th></th>\n",
       "      <th>product_name</th>\n",
       "      <th>image</th>\n",
       "      <th>description</th>\n",
       "      <th>cat_code</th>\n",
       "      <th>category1</th>\n",
       "      <th>clean_description</th>\n",
       "      <th>clean_description_ws</th>\n",
       "      <th>_len_description</th>\n",
       "    </tr>\n",
       "  </thead>\n",
       "  <tbody>\n",
       "    <tr>\n",
       "      <th>0</th>\n",
       "      <td>Elegance Polyester Multicolor Abstract Eyelet ...</td>\n",
       "      <td>55b85ea15a1536d46b7190ad6fff8ce7.jpg</td>\n",
       "      <td>Key Features of Elegance Polyester Multicolor ...</td>\n",
       "      <td>4</td>\n",
       "      <td>Home Furnishing</td>\n",
       "      <td>key feature elegance polyester multicolor abst...</td>\n",
       "      <td>key feature elegance polyester multicolor abst...</td>\n",
       "      <td>1420</td>\n",
       "    </tr>\n",
       "    <tr>\n",
       "      <th>1</th>\n",
       "      <td>Sathiyas Cotton Bath Towel</td>\n",
       "      <td>7b72c92c2f6c40268628ec5f14c6d590.jpg</td>\n",
       "      <td>Specifications of Sathiyas Cotton Bath Towel (...</td>\n",
       "      <td>0</td>\n",
       "      <td>Baby Care</td>\n",
       "      <td>specification sathiyas cotton bath towel bath ...</td>\n",
       "      <td>specification sathiyas cotton bath towel bath ...</td>\n",
       "      <td>444</td>\n",
       "    </tr>\n",
       "    <tr>\n",
       "      <th>2</th>\n",
       "      <td>Eurospa Cotton Terry Face Towel Set</td>\n",
       "      <td>64d5d4a258243731dc7bbb1eef49ad74.jpg</td>\n",
       "      <td>Key Features of Eurospa Cotton Terry Face Towe...</td>\n",
       "      <td>0</td>\n",
       "      <td>Baby Care</td>\n",
       "      <td>key feature eurospa cotton terry face towel se...</td>\n",
       "      <td>key feature eurospa cotton terry face towel se...</td>\n",
       "      <td>1258</td>\n",
       "    </tr>\n",
       "    <tr>\n",
       "      <th>3</th>\n",
       "      <td>SANTOSH ROYAL FASHION Cotton Printed King size...</td>\n",
       "      <td>d4684dcdc759dd9cdf41504698d737d8.jpg</td>\n",
       "      <td>Key Features of SANTOSH ROYAL FASHION Cotton P...</td>\n",
       "      <td>4</td>\n",
       "      <td>Home Furnishing</td>\n",
       "      <td>key feature santosh royal fashion cotton print...</td>\n",
       "      <td>key feature santosh royal fashion cotton print...</td>\n",
       "      <td>858</td>\n",
       "    </tr>\n",
       "    <tr>\n",
       "      <th>4</th>\n",
       "      <td>Jaipur Print Cotton Floral King sized Double B...</td>\n",
       "      <td>6325b6870c54cd47be6ebfbffa620ec7.jpg</td>\n",
       "      <td>Key Features of Jaipur Print Cotton Floral Kin...</td>\n",
       "      <td>4</td>\n",
       "      <td>Home Furnishing</td>\n",
       "      <td>key feature jaipur print cotton floral king si...</td>\n",
       "      <td>key feature jaipur print cotton floral king si...</td>\n",
       "      <td>1197</td>\n",
       "    </tr>\n",
       "  </tbody>\n",
       "</table>\n",
       "</div>"
      ],
      "text/plain": [
       "                                        product_name  \\\n",
       "0  Elegance Polyester Multicolor Abstract Eyelet ...   \n",
       "1                         Sathiyas Cotton Bath Towel   \n",
       "2                Eurospa Cotton Terry Face Towel Set   \n",
       "3  SANTOSH ROYAL FASHION Cotton Printed King size...   \n",
       "4  Jaipur Print Cotton Floral King sized Double B...   \n",
       "\n",
       "                                  image  \\\n",
       "0  55b85ea15a1536d46b7190ad6fff8ce7.jpg   \n",
       "1  7b72c92c2f6c40268628ec5f14c6d590.jpg   \n",
       "2  64d5d4a258243731dc7bbb1eef49ad74.jpg   \n",
       "3  d4684dcdc759dd9cdf41504698d737d8.jpg   \n",
       "4  6325b6870c54cd47be6ebfbffa620ec7.jpg   \n",
       "\n",
       "                                         description  cat_code  \\\n",
       "0  Key Features of Elegance Polyester Multicolor ...         4   \n",
       "1  Specifications of Sathiyas Cotton Bath Towel (...         0   \n",
       "2  Key Features of Eurospa Cotton Terry Face Towe...         0   \n",
       "3  Key Features of SANTOSH ROYAL FASHION Cotton P...         4   \n",
       "4  Key Features of Jaipur Print Cotton Floral Kin...         4   \n",
       "\n",
       "          category1                                  clean_description  \\\n",
       "0  Home Furnishing   key feature elegance polyester multicolor abst...   \n",
       "1        Baby Care   specification sathiyas cotton bath towel bath ...   \n",
       "2        Baby Care   key feature eurospa cotton terry face towel se...   \n",
       "3  Home Furnishing   key feature santosh royal fashion cotton print...   \n",
       "4  Home Furnishing   key feature jaipur print cotton floral king si...   \n",
       "\n",
       "                                clean_description_ws  _len_description  \n",
       "0  key feature elegance polyester multicolor abst...              1420  \n",
       "1  specification sathiyas cotton bath towel bath ...               444  \n",
       "2  key feature eurospa cotton terry face towel se...              1258  \n",
       "3  key feature santosh royal fashion cotton print...               858  \n",
       "4  key feature jaipur print cotton floral king si...              1197  "
      ]
     },
     "execution_count": 12,
     "metadata": {},
     "output_type": "execute_result"
    }
   ],
   "source": [
    "dfmarket=pd.read_csv('dfcleaned.csv')\n",
    "dfmarket.head()"
   ]
  },
  {
   "cell_type": "code",
   "execution_count": 13,
   "metadata": {},
   "outputs": [
    {
     "data": {
      "text/html": [
       "<div>\n",
       "<style scoped>\n",
       "    .dataframe tbody tr th:only-of-type {\n",
       "        vertical-align: middle;\n",
       "    }\n",
       "\n",
       "    .dataframe tbody tr th {\n",
       "        vertical-align: top;\n",
       "    }\n",
       "\n",
       "    .dataframe thead th {\n",
       "        text-align: right;\n",
       "    }\n",
       "</style>\n",
       "<table border=\"1\" class=\"dataframe\">\n",
       "  <thead>\n",
       "    <tr style=\"text-align: right;\">\n",
       "      <th></th>\n",
       "      <th>product_name</th>\n",
       "      <th>image</th>\n",
       "      <th>description</th>\n",
       "      <th>cat_code</th>\n",
       "      <th>category1</th>\n",
       "      <th>clean_description</th>\n",
       "      <th>clean_description_ws</th>\n",
       "      <th>_len_description</th>\n",
       "    </tr>\n",
       "  </thead>\n",
       "  <tbody>\n",
       "    <tr>\n",
       "      <th>69</th>\n",
       "      <td>HMT Sonata Gold Plated Watch For Men Sonata An...</td>\n",
       "      <td>1fcff864d6e397e1424d5366e6c6b8fa.jpg</td>\n",
       "      <td>HMT Sonata Gold Plated Watch For Men Sonata An...</td>\n",
       "      <td>6</td>\n",
       "      <td>Watches</td>\n",
       "      <td>hmt sonata gold plated watch men sonata analog...</td>\n",
       "      <td>hmt sonata gold plated watch for men sonata an...</td>\n",
       "      <td>328</td>\n",
       "    </tr>\n",
       "    <tr>\n",
       "      <th>291</th>\n",
       "      <td>Nirlon Kadhai 3 L</td>\n",
       "      <td>724e6eb7edc83eb48b6492d12e940ebd.jpg</td>\n",
       "      <td>Buy Nirlon Kadhai 3 L for Rs.785 online. Nirlo...</td>\n",
       "      <td>5</td>\n",
       "      <td>Kitchen &amp; Dining</td>\n",
       "      <td>buy nirlon kadhai online nirlon kadhai best pr...</td>\n",
       "      <td>buy nirlon kadhai for online nirlon kadhai bes...</td>\n",
       "      <td>165</td>\n",
       "    </tr>\n",
       "    <tr>\n",
       "      <th>131</th>\n",
       "      <td>Goldencollections GC4353 Makeup and Jewellery ...</td>\n",
       "      <td>9613f2f1e65fb1fc7e181e7f83c217da.jpg</td>\n",
       "      <td>Buy Goldencollections GC4353 Makeup and Jewell...</td>\n",
       "      <td>1</td>\n",
       "      <td>Beauty and Personal Care</td>\n",
       "      <td>buy goldencollections makeup jewellery vanity ...</td>\n",
       "      <td>buy goldencollections makeup and jewellery van...</td>\n",
       "      <td>247</td>\n",
       "    </tr>\n",
       "  </tbody>\n",
       "</table>\n",
       "</div>"
      ],
      "text/plain": [
       "                                          product_name  \\\n",
       "69   HMT Sonata Gold Plated Watch For Men Sonata An...   \n",
       "291                                  Nirlon Kadhai 3 L   \n",
       "131  Goldencollections GC4353 Makeup and Jewellery ...   \n",
       "\n",
       "                                    image  \\\n",
       "69   1fcff864d6e397e1424d5366e6c6b8fa.jpg   \n",
       "291  724e6eb7edc83eb48b6492d12e940ebd.jpg   \n",
       "131  9613f2f1e65fb1fc7e181e7f83c217da.jpg   \n",
       "\n",
       "                                           description  cat_code  \\\n",
       "69   HMT Sonata Gold Plated Watch For Men Sonata An...         6   \n",
       "291  Buy Nirlon Kadhai 3 L for Rs.785 online. Nirlo...         5   \n",
       "131  Buy Goldencollections GC4353 Makeup and Jewell...         1   \n",
       "\n",
       "                     category1  \\\n",
       "69                    Watches    \n",
       "291          Kitchen & Dining    \n",
       "131  Beauty and Personal Care    \n",
       "\n",
       "                                     clean_description  \\\n",
       "69   hmt sonata gold plated watch men sonata analog...   \n",
       "291  buy nirlon kadhai online nirlon kadhai best pr...   \n",
       "131  buy goldencollections makeup jewellery vanity ...   \n",
       "\n",
       "                                  clean_description_ws  _len_description  \n",
       "69   hmt sonata gold plated watch for men sonata an...               328  \n",
       "291  buy nirlon kadhai for online nirlon kadhai bes...               165  \n",
       "131  buy goldencollections makeup and jewellery van...               247  "
      ]
     },
     "execution_count": 13,
     "metadata": {},
     "output_type": "execute_result"
    }
   ],
   "source": [
    "# Pour mélanger les images, classées initalement par classe\n",
    "data   =  dfmarket.sample(frac=1, random_state=random_state).reset_index(drop=True)\n",
    "data.head()\n",
    "\n",
    "# Diviser les données en ensembles d'entraînement, de validation et de test\n",
    "train_data, temp_data  =  train_test_split(data, test_size=0.4, random_state=random_state)\n",
    "val_data, test_data    =  train_test_split(temp_data, test_size=0.5, random_state=random_state)\n",
    "train_data.head(3)"
   ]
  },
  {
   "cell_type": "markdown",
   "metadata": {},
   "source": [
    "Ce fichier contient **plusieurs sous-fichiers** hiérarchisés:\n",
    "- **train**, pour l'entraînement du modèle\n",
    "- **validation**, pour vérifer si le modèle est overfit\n",
    "- **test**, pour tester le modèle\n",
    "\n",
    "Chacun de ces fichiers contient des sous dossiers avec le label des **catégories**."
   ]
  },
  {
   "cell_type": "code",
   "execution_count": 14,
   "metadata": {},
   "outputs": [
    {
     "name": "stderr",
     "output_type": "stream",
     "text": [
      "100%|███████████████████████████████████████████████████████████████████████████████| 630/630 [00:03<00:00, 200.27it/s]\n"
     ]
    },
    {
     "name": "stdout",
     "output_type": "stream",
     "text": [
      "./Flipkart/train\n",
      "Copie des images terminée.\n"
     ]
    },
    {
     "name": "stderr",
     "output_type": "stream",
     "text": [
      "100%|███████████████████████████████████████████████████████████████████████████████| 210/210 [00:00<00:00, 238.72it/s]\n"
     ]
    },
    {
     "name": "stdout",
     "output_type": "stream",
     "text": [
      "./Flipkart/validation\n",
      "Copie des images terminée.\n"
     ]
    },
    {
     "name": "stderr",
     "output_type": "stream",
     "text": [
      "100%|███████████████████████████████████████████████████████████████████████████████| 210/210 [00:00<00:00, 242.00it/s]"
     ]
    },
    {
     "name": "stdout",
     "output_type": "stream",
     "text": [
      "./Flipkart/test\n",
      "Copie des images terminée.\n"
     ]
    },
    {
     "name": "stderr",
     "output_type": "stream",
     "text": [
      "\n"
     ]
    }
   ],
   "source": [
    "from tqdm import tqdm\n",
    "import numpy as np\n",
    "from keras.applications.vgg16 import VGG16, preprocess_input, decode_predictions\n",
    "from keras.preprocessing import image\n",
    "from keras.models import Sequential\n",
    "from keras.layers import Flatten, Dense, Dropout\n",
    "from keras.optimizers import Adam\n",
    "import cv2\n",
    "import shutil\n",
    "\n",
    "\n",
    "from tensorflow.keras.preprocessing.image import ImageDataGenerator, load_img, img_to_array\n",
    "\n",
    "\n",
    "# Prétraitement des images pour le modèle VGG16 (mise à l'échelle)\n",
    "def preprocess_vgg16(img_path):\n",
    "    img = load_img(img_path, target_size=(224, 224))\n",
    "    img_array = img # img_to_array(img)\n",
    "    #img_array = np.expand_dims(img_array, axis=0)\n",
    "    #img_array = img_array.reshape((img_array.shape[0], img_array.shape[1], img_array.shape[2]))\n",
    "    img_array = preprocess_input(img_array)\n",
    "    return img_array\n",
    "\n",
    "# def copy_images(data, from_dir, dest_dir):\n",
    "#     for index, row in tqdm(data.iterrows(), total=len(data)):\n",
    "#         label      =  row['category1'].strip()\n",
    "#         image_path =  os_path_join(from_dir, row['image'])\n",
    "#         label_dir  =  os_path_join(dest_dir, label)        \n",
    "#         # Traitement des images\n",
    "#         img   = load_img(image_path, target_size=(224, 224)) # cv2.imread(image_path)\n",
    "#         # img   = img_to_array(img)     \n",
    "#         os_make_dir(label_dir)\n",
    "#         # Chemin \n",
    "#         chemin_source      =  os_path_join(from_dir, row['image'])\n",
    "#         chemin_destination =  os_path_join(label_dir, row['image'])\n",
    "#         # # Copie\n",
    "#         shutil.copy(chemin_source, chemin_destination)\n",
    "#         #cv2.imwrite(os_path_join(label_dir, row['image']), img)\n",
    "\n",
    " # Liste des extensions d'images que vous souhaitez copier (par exemple : ['.jpg', '.png', '.jpeg'])\n",
    "# extensions_images = ['.jpg', '.png', '.jpeg']\n",
    "# def copy_images(data, from_dir, dest_dir):\n",
    "#     for index, row in tqdm(data.iterrows(), total=len(data)):\n",
    "#         label = row['category1'].strip()\n",
    "#         # Vérification de l'extension du fichier\n",
    "#         if any(row['image'].lower().endswith(ext) for ext in extensions_images):\n",
    "#             # Chemin \n",
    "#             chemin_source      =  os_path_join(from_dir, row['image'])\n",
    "#             # Convertir l'image en niveaux de gris\n",
    "#             image = Image.open(chemin_source)\n",
    "#             image_gray = image.convert(\"L\")\n",
    "#             label_dir      =  os_path_join(dest_dir, label)\n",
    "#             os_make_dir(label_dir)\n",
    "#             chemin_destination =  os_path_join(label_dir, row['image'])\n",
    "#                 # Enregistrer l'image convertie en niveaux de gris dans le dossier de destination\n",
    "#             image_gray.save(chemin_destination)\n",
    "#             # Copie\n",
    "#             # shutil.copy(chemin_source, chemin_destination)\n",
    "#     print(dest_dir)        \n",
    "#     print(\"Copie des images terminée.\")\n",
    "    \n",
    "# Utilisation de la fonction copy_images avec une barre de progression\n",
    "copy_images(train_data, IMG_FOLDER, train_dir)\n",
    "copy_images(val_data, IMG_FOLDER, validation_dir)\n",
    "copy_images(test_data, IMG_FOLDER, test_dir)\n"
   ]
  },
  {
   "cell_type": "code",
   "execution_count": 15,
   "metadata": {},
   "outputs": [
    {
     "name": "stderr",
     "output_type": "stream",
     "text": [
      "100%|███████████████████████████████████████████████████████████████████████████████████| 3/3 [00:00<00:00, 280.21it/s]"
     ]
    },
    {
     "name": "stdout",
     "output_type": "stream",
     "text": [
      "total ./Flipkart/train : Baby Care                      89\n",
      "total ./Flipkart/train : Beauty and Personal Care       93\n",
      "total ./Flipkart/train : Computers                      88\n",
      "total ./Flipkart/train : Home Decor & Festive Needs     87\n",
      "total ./Flipkart/train : Home Furnishing                95\n",
      "total ./Flipkart/train : Kitchen & Dining               88\n",
      "total ./Flipkart/train : Watches                        90\n",
      "total ./Flipkart/validation : Baby Care                      33\n",
      "total ./Flipkart/validation : Beauty and Personal Care       32\n",
      "total ./Flipkart/validation : Computers                      32\n",
      "total ./Flipkart/validation : Home Decor & Festive Needs     26\n",
      "total ./Flipkart/validation : Home Furnishing                29\n",
      "total ./Flipkart/validation : Kitchen & Dining               27\n",
      "total ./Flipkart/validation : Watches                        31\n",
      "total ./Flipkart/test : Baby Care                      28\n",
      "total ./Flipkart/test : Beauty and Personal Care       25\n",
      "total ./Flipkart/test : Computers                      30\n",
      "total ./Flipkart/test : Home Decor & Festive Needs     37\n",
      "total ./Flipkart/test : Home Furnishing                26\n",
      "total ./Flipkart/test : Kitchen & Dining               35\n",
      "total ./Flipkart/test : Watches                        29\n"
     ]
    },
    {
     "name": "stderr",
     "output_type": "stream",
     "text": [
      "\n"
     ]
    }
   ],
   "source": [
    "# import os\n",
    "for folder in tqdm([train_dir, validation_dir, test_dir]):\n",
    "    for label in os.listdir(folder):\n",
    "        print(f'total {folder} : {label:30}', len(os.listdir(os_path_join(folder, label))))"
   ]
  },
  {
   "cell_type": "markdown",
   "metadata": {},
   "source": [
    "### <font color=\"#337da4\" id=\"2\">2. Classification supervisée </font>\n",
    "----------------------------"
   ]
  },
  {
   "cell_type": "code",
   "execution_count": 16,
   "metadata": {},
   "outputs": [],
   "source": [
    "# ---------------------------------------------------------------------------\n",
    "# Configuration des paramètres principaux du modèle\n",
    "# ---------------------------------------------------------------------------\n",
    "# Le chemin vers la sauvegarde du réseau\n",
    "model_save_path    = os_path_join(DATA_FOLDER, 'model')    \n",
    "\n",
    "# Les chemins vers les jeu de données\n",
    "TRAINING_DIR       = train_dir\n",
    "TESTING_DIR        = test_dir\n",
    "\n",
    "IMGSIZE            = 224    # Taille de l'image en input\n",
    "EPOCH              = 20     # nombre d'epoch \n",
    "BATCH_SIZE         = 16     # traitement par batch d'images avant la descente de gradient\n",
    "FREEZE_LAYERS      = 15     # pour un VGG16 freeze de réapprentissage de certaines couches\n",
    "TRAIN              = True   # Entrainement ou utilisation d'un réseau déjà entrainé\n"
   ]
  },
  {
   "cell_type": "code",
   "execution_count": 17,
   "metadata": {},
   "outputs": [],
   "source": [
    "# Nous allons créer le dossier de stockage des modeles implementés.\n",
    "os_make_dir(os_path_join(DATA_FOLDER, 'model'))"
   ]
  },
  {
   "cell_type": "markdown",
   "metadata": {},
   "source": [
    "On a **initialisé nos générateurs**, maintenant il faut leur **indiquer où chercher nos images** !\n",
    "\n",
    "Pour cela, on utilise la fonction *flow_from_directory*  qui permet de charger des **lots de données** depuis un chemin de fichier.\n",
    "\n",
    "\n",
    "Les [**paramètres**](https://ichi.pro/fr/methodes-de-flux-de-keras-imagedatagenerator-et-quand-les-utiliser-203621254419857) que l'on utilise :\n",
    "- **le chemin du fichier**, que l'on a déjà stocké dans des variables plus tôt\n",
    "\n",
    "- **batch_size**, la taille du lot d'images à charger. Ici on choisit des lots de **BATCH_SIZE = 16 images**.\n",
    "\n",
    "- **target_size**, le générateur peut redimensionner automatiquement la hauteur et la largeur des images chargés. On choisit une dimension petite de **224x224** pour que le modèle s'entraîne plus rapidement\n",
    "\n",
    "- **class_mode**, ce paramètre permet de choisir le type de labellisation que l'on veut **'categorical', 'binary', etc.** !\n",
    "\n",
    "[details sur les autres paramètres!](https://keras.io/api/preprocessing/image/)"
   ]
  },
  {
   "cell_type": "markdown",
   "metadata": {},
   "source": [
    " * [x] **directory**: Le chemin du répertoire contenant les images à charger. Chaque sous-dossier dans ce répertoire est généralement considéré comme une classe distincte lors de la classification d'images.\n",
    "\n",
    " * [x] **target_size**: Une tuple représentant les dimensions cibles (**largeur, hauteur**) pour redimensionner les images avant de les fournir au modèle. Les images seront redimensionnées pour s'ajuster à cette taille.\n",
    "\n",
    " * [x] **batch_size**: Le nombre d'images à inclure dans chaque lot (**batch**) d'entraînement. Cela détermine le nombre d'images qui seront chargées à chaque étape d'entraînement.\n",
    "\n",
    " * [x] **class_mode**: Le mode de classe pour la génération des étiquettes. Les options courantes sont :\n",
    "\n",
    "   * [x] **\"categorical\"** : Utilisé pour la classification multiclasse, où les étiquettes sont codées en tant que vecteurs one-hot.\n",
    "   * [x] **\"binary\"** : Utilisé pour la classification binaire, où les étiquettes sont soit **0**, soit **1**.\n",
    "   * [x] **\"sparse\"** : Utilisé pour la classification multiclasse, où les étiquettes sont des entiers représentant les classes.\n",
    "   * [x] **\"None\"** : Utilisé si vous ne souhaitez pas générer d'étiquettes. Cela est utile lors de la prédiction sur de nouvelles données.\n",
    " * [x] **shuffle**: Un booléen indiquant si les données doivent être mélangées à chaque époque (**epoch**). Cela aide à améliorer la généralisation du modèle en évitant qu'il ne mémorise l'ordre des données.\n",
    "\n",
    " * [x] **color_mode**: Le mode de couleur des images à charger. Les options courantes sont \"rgb\" (images couleur), \"grayscale\" (images en niveaux de gris) ou \"rgba\" (images couleur avec canal alpha).\n",
    "\n",
    " * [x] **seed**: Une valeur utilisée pour initialiser le générateur de nombres aléatoires pour assurer la reproductibilité si nécessaire.\n",
    "\n",
    " * [x] **subset**: Utilisé pour spécifier le sous-ensemble du jeu de données à utiliser, par exemple **\"training\"** ou **\"validation\"**, si le répertoire contient des sous-répertoires pour différents ensembles de données.\n",
    "\n",
    " * [x] **interpolation**: La méthode à utiliser pour l'interpolation lors du redimensionnement des images. Les options courantes sont **\"nearest\", \"bilinear\", et \"bicubic\"**."
   ]
  },
  {
   "cell_type": "code",
   "execution_count": 18,
   "metadata": {},
   "outputs": [],
   "source": [
    "from keras.preprocessing.image import ImageDataGenerator\n",
    "from keras.applications.vgg16 import preprocess_input\n",
    "datagen = ImageDataGenerator(# rescale=1./255,\n",
    "                             preprocessing_function=preprocess_input,\n",
    "                            )\n"
   ]
  },
  {
   "cell_type": "code",
   "execution_count": 19,
   "metadata": {},
   "outputs": [
    {
     "name": "stdout",
     "output_type": "stream",
     "text": [
      "Found 630 images belonging to 7 classes.\n",
      "Found 210 images belonging to 7 classes.\n",
      "Found 210 images belonging to 7 classes.\n"
     ]
    }
   ],
   "source": [
    "train_generator = datagen.flow_from_directory(train_dir,\n",
    "                                              batch_size=BATCH_SIZE,\n",
    "                                              target_size=(IMGSIZE, IMGSIZE),\n",
    "                                              class_mode='categorical')\n",
    "\n",
    "validation_generator = datagen.flow_from_directory(\n",
    "    validation_dir,\n",
    "    batch_size=BATCH_SIZE,\n",
    "    target_size=(IMGSIZE, IMGSIZE),\n",
    "    class_mode='categorical')\n",
    "\n",
    "\n",
    "# Charger le générateur de test\n",
    "test_generator = datagen.flow_from_directory(\n",
    "    test_dir,\n",
    "    target_size=(IMGSIZE, IMGSIZE),\n",
    "    batch_size=1,\n",
    "    class_mode='categorical'\n",
    ")"
   ]
  },
  {
   "cell_type": "code",
   "execution_count": 20,
   "metadata": {},
   "outputs": [
    {
     "name": "stdout",
     "output_type": "stream",
     "text": [
      "data batch shape: (16, 224, 224, 3)\n",
      "labels batch shape: (16, 7)\n"
     ]
    }
   ],
   "source": [
    "for data_batch, labels_batch in train_generator:\n",
    "    print('data batch shape:', data_batch.shape)\n",
    "    print('labels batch shape:', labels_batch.shape)\n",
    "    break"
   ]
  },
  {
   "cell_type": "markdown",
   "metadata": {},
   "source": [
    "On **entraîne le modèle** avec la fonction *fit_generator()*, c'est le même principe que la fonction *fit()* mais adapté aux **générateurs**.\n",
    "\n",
    "On choisit **ces paramètres** pour l'entraînement :\n",
    "- le **chemin du fichier** contenant les données d'entraînement\n",
    "- le **nombre d'epoch**, le nombre de fois que le modèle repasse sur l'ensemble de données\n",
    "- **steps_per_epoch**, est en fait similaire a batch_size, ici steps_per_epoch correspond à un batch_size = (nombre de données d'entraînement divisé par nombre de steps_per_epoch)\n",
    "- le chemin du fichier contenant les **données de validation** (pour évaluer l'overfitting du modèle)\n",
    "- **validation_steps**, c'est le nombre de steps_per_epoch après lequel le modèle se test sur les données de validation\n",
    "\n",
    "On peut résumer ces paramètres ainsi :  le modèle **s'entraîne EPOCH (= 10) fois sur l'ensemble de données**. Chaque fois qu'il s'entraîne, les **données sont divisés en STEP_SIZE_TRAIN (= 39) lots** sur lesquels il se focalise un à un. À chaque fois qu'il a visité **STEP_SIZE_VALID (= 13) lots**, il **teste son apprentissage** sur l'ensemble des données de validation."
   ]
  },
  {
   "cell_type": "code",
   "execution_count": 21,
   "metadata": {},
   "outputs": [
    {
     "name": "stdout",
     "output_type": "stream",
     "text": [
      "STEP_SIZE_TRAIN  = 39 batch_size= 16\n",
      "STEP_SIZE_VALID  = 13 batch_size= 16\n",
      "STEP_SIZE_TEST   = 210 batch_size= 1\n"
     ]
    }
   ],
   "source": [
    "# Génération des STEPS_SIZE (comme nous utilisons des générateurs infinis)\n",
    "# Ceci est nécessaire pour déterminer à quel moment nous avons parcouru entiérement nos jeu de données\n",
    "STEP_SIZE_TRAIN  =  train_generator.n      //  train_generator.batch_size\n",
    "STEP_SIZE_VALID  =  validation_generator.n //  validation_generator.batch_size\n",
    "STEP_SIZE_TEST   =  test_generator.n       //  test_generator.batch_size\n",
    "\n",
    "print('STEP_SIZE_TRAIN  =', STEP_SIZE_TRAIN, 'batch_size=', train_generator.batch_size)\n",
    "print('STEP_SIZE_VALID  =', STEP_SIZE_VALID, 'batch_size=', validation_generator.batch_size )\n",
    "print('STEP_SIZE_TEST   =', STEP_SIZE_TEST,  'batch_size=', test_generator.batch_size )"
   ]
  },
  {
   "cell_type": "code",
   "execution_count": null,
   "metadata": {},
   "outputs": [],
   "source": []
  },
  {
   "cell_type": "code",
   "execution_count": 22,
   "metadata": {},
   "outputs": [],
   "source": [
    "# Étape 1 : Charger les biblio\n",
    "import tensorflow as tf\n",
    "from tensorflow.keras.callbacks import ModelCheckpoint, EarlyStopping\n",
    "from tensorflow.keras.applications import VGG16\n",
    "from tensorflow.keras.layers import Dense, Flatten\n",
    "from tensorflow.keras.models import Model\n",
    "from tensorflow.keras.optimizers import Adam\n",
    "\n",
    "\n",
    "num_classes= len(list(set(dfmarket['cat_code'])))\n",
    "\n",
    "def create_model_VGG16():\n",
    "    # Étape 2 : Charger le modèle VGG16 pré-entraîné\n",
    "    base_model = VGG16(weights='imagenet', include_top=False, input_shape=(224, 224, 3))\n",
    "\n",
    "    # Layer non entraînables = on garde les poids du modèle pré-entraîné\n",
    "    for layer in base_model.layers:\n",
    "        layer.trainable = False\n",
    "        \n",
    "    # Étape 4 : Construction de la couche de sortie\n",
    "    x = Flatten()(base_model.output)\n",
    "    x = Dense(256, activation='relu')(x)\n",
    "    # x = Dropout(0.5)(x)\n",
    "    output = Dense(num_classes, activation='softmax')(x)\n",
    "\n",
    "    # Créer le modèle complet en spécifiant les entrées et les sorties\n",
    "    model = Model(inputs=base_model.input, outputs=output)\n",
    "    \n",
    "    # Étape 5 : Compilation du modèle\n",
    "    model.compile(loss=\"categorical_crossentropy\", optimizer='rmsprop', metrics=[\"accuracy\"])\n",
    "    # loss=\"categorical_crossentropy\", optimizer='rmsprop', metrics=[\"accuracy\"]\n",
    "    #optimizer=Adam(learning_rate=0.001), loss='categorical_crossentropy', metrics=['accuracy']\n",
    "    # categorical_crossentropy quand nombre de cat>2 sinon binary_crossentropy  \n",
    "\n",
    "    print(model.summary())\n",
    "    return model"
   ]
  },
  {
   "cell_type": "code",
   "execution_count": 23,
   "metadata": {
    "tags": []
   },
   "outputs": [],
   "source": [
    "%%capture\n",
    "model=create_model_VGG16() "
   ]
  },
  {
   "cell_type": "code",
   "execution_count": null,
   "metadata": {},
   "outputs": [],
   "source": []
  },
  {
   "cell_type": "code",
   "execution_count": 24,
   "metadata": {},
   "outputs": [
    {
     "name": "stdout",
     "output_type": "stream",
     "text": [
      "CPU times: total: 0 ns\n",
      "Wall time: 0 ns\n"
     ]
    }
   ],
   "source": [
    "%%time\n",
    "import time\n",
    "from keras.callbacks import ModelCheckpoint\n",
    "\n",
    "# Création du callback\n",
    "MODEL_NAME    = 'Model1_VGG16.h5'\n",
    "# Créer un callback pour sauvegarder le meilleur modèle basé sur la précision de validation\n",
    "checkpoint = ModelCheckpoint(f'{model_save_path}/{MODEL_NAME}', monitor='val_loss', \n",
    "                             verbose=1, save_best_only=True, mode='min')\n",
    "es = EarlyStopping(monitor='val_loss', mode='min', verbose=1, patience=5)\n",
    "# Liste de tous les callbacks que vous souhaitez utiliser (peut en ajouter d'autres si nécessaire)\n",
    "callbacks_list = [checkpoint, es]"
   ]
  },
  {
   "cell_type": "code",
   "execution_count": 25,
   "metadata": {},
   "outputs": [
    {
     "name": "stdout",
     "output_type": "stream",
     "text": [
      "Epoch 1/20\n",
      "39/39 [==============================] - ETA: 0s - loss: 27.8624 - accuracy: 0.6303\n",
      "Epoch 1: val_loss improved from inf to 4.63979, saving model to ./Flipkart/model\\Model1_VGG16.h5\n",
      "39/39 [==============================] - 158s 4s/step - loss: 27.8624 - accuracy: 0.6303 - val_loss: 4.6398 - val_accuracy: 0.7692\n",
      "Epoch 2/20\n",
      "39/39 [==============================] - ETA: 0s - loss: 1.2030 - accuracy: 0.9316\n",
      "Epoch 2: val_loss did not improve from 4.63979\n",
      "39/39 [==============================] - 158s 4s/step - loss: 1.2030 - accuracy: 0.9316 - val_loss: 7.1881 - val_accuracy: 0.7548\n",
      "Epoch 3/20\n",
      "39/39 [==============================] - ETA: 0s - loss: 1.0792 - accuracy: 0.9381\n",
      "Epoch 3: val_loss did not improve from 4.63979\n",
      "39/39 [==============================] - 154s 4s/step - loss: 1.0792 - accuracy: 0.9381 - val_loss: 7.3890 - val_accuracy: 0.8125\n",
      "Epoch 4/20\n",
      "39/39 [==============================] - ETA: 0s - loss: 0.3284 - accuracy: 0.9723\n",
      "Epoch 4: val_loss did not improve from 4.63979\n",
      "39/39 [==============================] - 154s 4s/step - loss: 0.3284 - accuracy: 0.9723 - val_loss: 6.8549 - val_accuracy: 0.8413\n",
      "Epoch 5/20\n",
      "39/39 [==============================] - ETA: 0s - loss: 0.5718 - accuracy: 0.9674\n",
      "Epoch 5: val_loss did not improve from 4.63979\n",
      "39/39 [==============================] - 154s 4s/step - loss: 0.5718 - accuracy: 0.9674 - val_loss: 8.1689 - val_accuracy: 0.7933\n",
      "Epoch 6/20\n",
      "39/39 [==============================] - ETA: 0s - loss: 0.6948 - accuracy: 0.9772\n",
      "Epoch 6: val_loss did not improve from 4.63979\n",
      "39/39 [==============================] - 155s 4s/step - loss: 0.6948 - accuracy: 0.9772 - val_loss: 7.5296 - val_accuracy: 0.8077\n",
      "Epoch 6: early stopping\n",
      "\n",
      "Temps de traitement: 15.57 minutes.\n"
     ]
    }
   ],
   "source": [
    "start_time = time.time()\n",
    "# Entraîner le modèle en utilisant les callbacks\n",
    "history1_VGG16 = model.fit_generator(\n",
    "    train_generator,\n",
    "    steps_per_epoch=STEP_SIZE_TRAIN,\n",
    "    epochs=EPOCH,\n",
    "    validation_data=validation_generator,\n",
    "    validation_steps=STEP_SIZE_VALID,\n",
    "    callbacks=callbacks_list  # Utilisez la liste de callbacks\n",
    ")\n",
    "end_time = time.time()\n",
    "processing_time = end_time - start_time\n",
    "print(\"\\nTemps de traitement:\", round(processing_time / 60, 2), \"minutes.\")"
   ]
  },
  {
   "cell_type": "code",
   "execution_count": 26,
   "metadata": {},
   "outputs": [],
   "source": [
    "# Charger le modèle sauvegardé\n",
    "model_VGG16 = load_model(os_path_join(model_save_path, f'{MODEL_NAME}'))"
   ]
  },
  {
   "cell_type": "markdown",
   "metadata": {},
   "source": [
    "On évalue notre modèle en comparant les métriques, les **courbes de loss** et les **courbes de précision (accuracy)**."
   ]
  },
  {
   "cell_type": "code",
   "execution_count": 27,
   "metadata": {},
   "outputs": [
    {
     "name": "stdout",
     "output_type": "stream",
     "text": [
      "210/210 [==============================] - 52s 241ms/step\n",
      "\u001b[93m**************************************************\u001b[0m\n",
      "\u001b[93m\u001b[1mResultats du best model :  Model1_VGG16.h5\u001b[0m\n",
      "\u001b[93m**************************************************\u001b[0m\n",
      "[INFO] Test Loss:      6.7164\n",
      "[INFO] Test accuracy:  77.62%\n",
      "\u001b[93m--------------------------------------------------\u001b[0m\n"
     ]
    },
    {
     "data": {
      "image/png": "[encoded data removed]",
      "text/plain": [
       "<Figure size 1000x500 with 2 Axes>"
      ]
     },
     "metadata": {},
     "output_type": "display_data"
    },
    {
     "name": "stdout",
     "output_type": "stream",
     "text": [
      "Evaluation terminée ...!\n"
     ]
    }
   ],
   "source": [
    "# evaluate(model_save_path, MODEL_NAME, history1_VGG16)\n",
    "ari, test_accuracy, test_loss, processing_time=evaluate(model_save_path, MODEL_NAME, history1_VGG16, \n",
    "                                                        test_generator,  STEP_SIZE_TEST, processing_time)\n",
    "\n",
    "\n",
    "# evaluation = model.evaluate(X_test, y_cat_test)\n",
    "# print(f'Test Accuracy : {evaluation[1] * 100:.2f}%')\n",
    "\n",
    "# y_pred = model.predict(X_test)\n",
    "# y_pred = np.argmax(y_pred, axis=1)\n",
    "# cm = confusion_matrix(y_test, y_pred)\n",
    "\n",
    "# disp = ConfusionMatrixDisplay(confusion_matrix=cm,\n",
    "#                               display_labels=labels)\n",
    "\n",
    "# # NOTE: Fill all variables here with default values of the plot_confusion_matrix\n",
    "# fig, ax = plt.subplots(figsize=(10, 10))\n",
    "# disp = disp.plot(xticks_rotation='vertical', ax=ax,cmap='summer')\n",
    "# plt.show()"
   ]
  },
  {
   "cell_type": "markdown",
   "metadata": {},
   "source": [
    "---------\n",
    "- [x] **Constat**: Sur les données d’entraînement, le modèle est très performant mais sur les **données de validation** il est moins en moins bon. En effet, ***l'accuracy de l'entrainement*** continue de croitre, tandis que ***l'accuracy de la validation***. Par ailleurs, il existe un écart perceptible entre les deux accuracy (**training** vs **Validation**). <br> Lorsque la taille des données de training est faible, le modèle apprend ***parfois des bruits ou des détails indésirables*** ce qui réduit sa performance sur les données **test**.  Cela signifie que le modèle aura du mal à **généraliser sur un nouvel ensemble de données**.\n",
    "- [x] Le modèle se spécialise sur les données d’entraînement mais n’est plus capable d’interpréter les données de validations, il est en ***overfitting***. Nous allons ***améliorer*** sa performance en utilisant la ***data augmentation***."
   ]
  },
  {
   "cell_type": "markdown",
   "metadata": {},
   "source": [
    "### <font color=\"#337da4\" id=\"3\">3. Data Augmentation </font>\n",
    "----------------------------"
   ]
  },
  {
   "cell_type": "markdown",
   "metadata": {},
   "source": [
    "L’idée derrière la ***Data Augmentation*** est de reproduire les données préexistantes en leur appliquant une transformation aléatoire. Par exemple, appliquer un effet mirroir sur une image.\n",
    "Lors de l’entraînement, notre modèle apprendra sur beaucoup plus de données tout en ne rencontrant jamais deux fois la même image.\n",
    "***Le modèle est donc exposé à davantage de données***. Cela lui permet de mieux généraliser.\n",
    "\n",
    "On peut faire de la **Data Augmentation** en utilisant la fonction ***ImageDataGenerator*** déjà utilisé plus haut et en **modifiant certains paramètres** :\n",
    "\n",
    "- **rotation_range** pour faire pivoter une image de façon aléatoire sur une plage entre 0 et la valeur choisis (maximum 180 degré)\n",
    "- **width_shift** et **height_shift** sont des plages (en fraction de la largeur ou de la hauteur totale) à l'intérieur desquelles on peut redimensionner aléatoirement des images verticalement ou horizontalement.\n",
    "- **shear_range** est une plage permettant de rogner(découper) de manière aléatoire l'image\n",
    "- **zoom_range** permet de zoomer de manière aléatoire à l'intérieur des images\n",
    "- **horizontal_flip** retourne horizontalement des images de manière aléatoire (certaines seront retourner d'autres non)\n",
    "- **fill_mode** est la stratégie utilisée pour remplir les pixels nouvellement créés, qui peuvent apparaître après un pivotage, un rognage, etc\n",
    "\n",
    "On utilise **ces quelques paramètres** mais encore une fois, il en existe d'autres sur [la documentation Keras !](https://keras.io/api/preprocessing/image/)"
   ]
  },
  {
   "cell_type": "code",
   "execution_count": 28,
   "metadata": {},
   "outputs": [],
   "source": [
    "augmented_datagen          = ImageDataGenerator(\n",
    "    # rescale                =  1./255,\n",
    "    rotation_range         =  40,\n",
    "    width_shift_range      =  0.2,\n",
    "    height_shift_range     =  0.2,\n",
    "    shear_range            =  0.2,\n",
    "    zoom_range             =  0.2,\n",
    "    horizontal_flip        =  True,\n",
    "    preprocessing_function = preprocess_input,)"
   ]
  },
  {
   "cell_type": "markdown",
   "metadata": {},
   "source": [
    "Des générateurs intégré à ***Keras***:\n",
    "- [x] ***flow*** : charge des données via une variable\n",
    "- [x] ***flow_from_dataframe*** : charge des données via un dataframe Pandas\n",
    "- [x] ***flow_from_directory*** : charge des données via un dossier spécifique sur l’ordinateur"
   ]
  },
  {
   "cell_type": "code",
   "execution_count": 29,
   "metadata": {},
   "outputs": [
    {
     "name": "stdout",
     "output_type": "stream",
     "text": [
      "Found 630 images belonging to 7 classes.\n",
      "Found 210 images belonging to 7 classes.\n"
     ]
    }
   ],
   "source": [
    "train_generator            = augmented_datagen.flow_from_directory(\n",
    "    train_dir,\n",
    "    target_size            = (IMGSIZE, IMGSIZE),\n",
    "    batch_size             =  BATCH_SIZE,\n",
    "    class_mode             =  'categorical')\n",
    "\n",
    "validation_generator       =  datagen.flow_from_directory(\n",
    "    validation_dir,\n",
    "    target_size            =  (IMGSIZE, IMGSIZE),\n",
    "    batch_size             =  BATCH_SIZE,\n",
    "    class_mode             = 'categorical')"
   ]
  },
  {
   "cell_type": "markdown",
   "metadata": {},
   "source": [
    "La ***Data Augmentation*** concerne seulement les ***données d’entraînement…*** pour les autres données on initialise un générateur simple!"
   ]
  },
  {
   "cell_type": "code",
   "execution_count": 30,
   "metadata": {
    "tags": []
   },
   "outputs": [],
   "source": [
    "%%capture\n",
    "model=create_model_VGG16() "
   ]
  },
  {
   "cell_type": "markdown",
   "metadata": {},
   "source": [
    " Il est toujours conseillé de **sauvegarder** notre modèle après l’apprentissage, cela permet d’éviter de recommencer l’entraînement à chaque nouvelle session."
   ]
  },
  {
   "cell_type": "code",
   "execution_count": 31,
   "metadata": {},
   "outputs": [
    {
     "name": "stdout",
     "output_type": "stream",
     "text": [
      "CPU times: total: 15.6 ms\n",
      "Wall time: 8.49 ms\n"
     ]
    }
   ],
   "source": [
    "%%time\n",
    "from keras.callbacks import ModelCheckpoint\n",
    "\n",
    "# Création du callback\n",
    "MODEL_NAME    = 'Model2_VGG16_augmented.h5'\n",
    "# Créer un callback pour sauvegarder le meilleur modèle basé sur la précision de validation\n",
    "checkpoint = ModelCheckpoint(f'{model_save_path}/{MODEL_NAME}', monitor='val_loss', \n",
    "                             verbose=1, save_best_only=True, mode='min')\n",
    "es = EarlyStopping(monitor='val_loss', mode='min', verbose=1, patience=5)\n",
    "# Liste de tous les callbacks que vous souhaitez utiliser (peut en ajouter d'autres si nécessaire)\n",
    "callbacks_list = [checkpoint, es]"
   ]
  },
  {
   "cell_type": "code",
   "execution_count": 32,
   "metadata": {},
   "outputs": [
    {
     "name": "stdout",
     "output_type": "stream",
     "text": [
      "Epoch 1/20\n",
      "39/39 [==============================] - ETA: 0s - loss: 23.5922 - accuracy: 0.5179\n",
      "Epoch 1: val_loss improved from inf to 4.69720, saving model to ./Flipkart/model\\Model2_VGG16_augmented.h5\n",
      "39/39 [==============================] - 156s 4s/step - loss: 23.5922 - accuracy: 0.5179 - val_loss: 4.6972 - val_accuracy: 0.7308\n",
      "Epoch 2/20\n",
      "39/39 [==============================] - ETA: 0s - loss: 2.5579 - accuracy: 0.7085\n",
      "Epoch 2: val_loss improved from 4.69720 to 2.32523, saving model to ./Flipkart/model\\Model2_VGG16_augmented.h5\n",
      "39/39 [==============================] - 144s 4s/step - loss: 2.5579 - accuracy: 0.7085 - val_loss: 2.3252 - val_accuracy: 0.7500\n",
      "Epoch 3/20\n",
      "39/39 [==============================] - ETA: 0s - loss: 1.5385 - accuracy: 0.7590\n",
      "Epoch 3: val_loss improved from 2.32523 to 1.85928, saving model to ./Flipkart/model\\Model2_VGG16_augmented.h5\n",
      "39/39 [==============================] - 151s 4s/step - loss: 1.5385 - accuracy: 0.7590 - val_loss: 1.8593 - val_accuracy: 0.7356\n",
      "Epoch 4/20\n",
      "39/39 [==============================] - ETA: 0s - loss: 1.0806 - accuracy: 0.7980\n",
      "Epoch 4: val_loss did not improve from 1.85928\n",
      "39/39 [==============================] - 144s 4s/step - loss: 1.0806 - accuracy: 0.7980 - val_loss: 3.0134 - val_accuracy: 0.7452\n",
      "Epoch 5/20\n",
      "39/39 [==============================] - ETA: 0s - loss: 1.3238 - accuracy: 0.7964\n",
      "Epoch 5: val_loss did not improve from 1.85928\n",
      "39/39 [==============================] - 145s 4s/step - loss: 1.3238 - accuracy: 0.7964 - val_loss: 3.2655 - val_accuracy: 0.7596\n",
      "Epoch 6/20\n",
      "39/39 [==============================] - ETA: 0s - loss: 1.1671 - accuracy: 0.8127\n",
      "Epoch 6: val_loss did not improve from 1.85928\n",
      "39/39 [==============================] - 142s 4s/step - loss: 1.1671 - accuracy: 0.8127 - val_loss: 2.3317 - val_accuracy: 0.8462\n",
      "Epoch 7/20\n",
      "39/39 [==============================] - ETA: 0s - loss: 0.9814 - accuracy: 0.8208\n",
      "Epoch 7: val_loss did not improve from 1.85928\n",
      "39/39 [==============================] - 147s 4s/step - loss: 0.9814 - accuracy: 0.8208 - val_loss: 2.2715 - val_accuracy: 0.8125\n",
      "Epoch 8/20\n",
      "39/39 [==============================] - ETA: 0s - loss: 0.8703 - accuracy: 0.8420\n",
      "Epoch 8: val_loss improved from 1.85928 to 1.73470, saving model to ./Flipkart/model\\Model2_VGG16_augmented.h5\n",
      "39/39 [==============================] - 146s 4s/step - loss: 0.8703 - accuracy: 0.8420 - val_loss: 1.7347 - val_accuracy: 0.7981\n",
      "Epoch 9/20\n",
      "39/39 [==============================] - ETA: 0s - loss: 0.7168 - accuracy: 0.8730\n",
      "Epoch 9: val_loss did not improve from 1.73470\n",
      "39/39 [==============================] - 153s 4s/step - loss: 0.7168 - accuracy: 0.8730 - val_loss: 2.4850 - val_accuracy: 0.8269\n",
      "Epoch 10/20\n",
      "39/39 [==============================] - ETA: 0s - loss: 0.8162 - accuracy: 0.8599\n",
      "Epoch 10: val_loss did not improve from 1.73470\n",
      "39/39 [==============================] - 142s 4s/step - loss: 0.8162 - accuracy: 0.8599 - val_loss: 1.9204 - val_accuracy: 0.8365\n",
      "Epoch 11/20\n",
      "39/39 [==============================] - ETA: 0s - loss: 0.3835 - accuracy: 0.9137\n",
      "Epoch 11: val_loss did not improve from 1.73470\n",
      "39/39 [==============================] - 145s 4s/step - loss: 0.3835 - accuracy: 0.9137 - val_loss: 2.9551 - val_accuracy: 0.7740\n",
      "Epoch 12/20\n",
      "39/39 [==============================] - ETA: 0s - loss: 0.7183 - accuracy: 0.8795\n",
      "Epoch 12: val_loss did not improve from 1.73470\n",
      "39/39 [==============================] - 137s 4s/step - loss: 0.7183 - accuracy: 0.8795 - val_loss: 2.8156 - val_accuracy: 0.8221\n",
      "Epoch 13/20\n",
      "39/39 [==============================] - ETA: 0s - loss: 0.3816 - accuracy: 0.9202\n",
      "Epoch 13: val_loss did not improve from 1.73470\n",
      "39/39 [==============================] - 141s 4s/step - loss: 0.3816 - accuracy: 0.9202 - val_loss: 3.3436 - val_accuracy: 0.8173\n",
      "Epoch 13: early stopping\n",
      "\n",
      "Temps de traitement: 31.57 minutes.\n"
     ]
    }
   ],
   "source": [
    "# Entraîner le modèle en utilisant les callbacks\n",
    "start_time            = time.time()\n",
    "history2_VGG16        = model.fit_generator(\n",
    "    train_generator,\n",
    "    steps_per_epoch   = STEP_SIZE_TRAIN,\n",
    "    epochs=EPOCH,\n",
    "    validation_data   = validation_generator,\n",
    "    validation_steps  = STEP_SIZE_VALID,\n",
    "    callbacks         = callbacks_list  # Utilisez la liste de callbacks\n",
    ")\n",
    "end_time              = time.time()\n",
    "processing_time       = end_time - start_time\n",
    "print(\"\\nTemps de traitement:\", round(processing_time / 60, 2), \"minutes.\")"
   ]
  },
  {
   "cell_type": "code",
   "execution_count": 33,
   "metadata": {},
   "outputs": [],
   "source": [
    "# Charger le modèle sauvegardé\n",
    "model2_VGG16 = load_model(os_path_join(model_save_path, f'{MODEL_NAME}'))"
   ]
  },
  {
   "cell_type": "code",
   "execution_count": 34,
   "metadata": {},
   "outputs": [
    {
     "name": "stdout",
     "output_type": "stream",
     "text": [
      "210/210 [==============================] - 42s 199ms/step\n",
      "\u001b[93m**************************************************\u001b[0m\n",
      "\u001b[93m\u001b[1mResultats du best model :  Model2_VGG16_augmented.h5\u001b[0m\n",
      "\u001b[93m**************************************************\u001b[0m\n",
      "[INFO] Test Loss:      2.3316\n",
      "[INFO] Test accuracy:  77.14%\n",
      "\u001b[93m--------------------------------------------------\u001b[0m\n"
     ]
    },
    {
     "data": {
      "image/png": "[encoded data removed]",
      "text/plain": [
       "<Figure size 1000x500 with 2 Axes>"
      ]
     },
     "metadata": {},
     "output_type": "display_data"
    },
    {
     "name": "stdout",
     "output_type": "stream",
     "text": [
      "Evaluation terminée ...!\n"
     ]
    }
   ],
   "source": [
    "# evaluate(model_save_path, MODEL_NAME, history1_VGG16)\n",
    "ari, test_accuracy, test_loss, processing_time=evaluate(model_save_path, MODEL_NAME, history2_VGG16, \n",
    "                                                        test_generator,  STEP_SIZE_TEST, processing_time)\n",
    "# to_png()"
   ]
  },
  {
   "cell_type": "code",
   "execution_count": null,
   "metadata": {},
   "outputs": [],
   "source": []
  },
  {
   "cell_type": "markdown",
   "metadata": {},
   "source": [
    " Nous pouvons aussi implémenter ***l'augmentation des données*** à l'aide des couches de prétraitement **Keras** suivantes : **tf.keras.layers.RandomFlip** , **tf.keras.layers.RandomRotation** et **tf.keras.layers.RandomZoom**. Celles-ci peuvent être incluses dans votre modèle comme d'autres couches et exécutées sur le **GPU**."
   ]
  },
  {
   "cell_type": "code",
   "execution_count": 35,
   "metadata": {},
   "outputs": [
    {
     "name": "stdout",
     "output_type": "stream",
     "text": [
      "Le dossier './Flipkart/classification/train' et son contenu ont été supprimés avec succès.\n",
      "Le dossier './Flipkart/classification/test' et son contenu ont été supprimés avec succès.\n"
     ]
    }
   ],
   "source": [
    "import os\n",
    "import shutil\n",
    "from sklearn.model_selection import train_test_split\n",
    "\n",
    "# Chemin vers le dossier contenant toutes les images\n",
    "data_dir = IMG_FOLDER\n",
    "# Chemin vers le dossier du jeu de données\n",
    "dataset_dir = DATA_FOLDER+'/classification'\n",
    "\n",
    "train_dir2 = os_path_join(dataset_dir, 'train') \n",
    "# validation_dir2 = os_path_join(dataset_dir, 'validation')\n",
    "test_dir2 = os_path_join(dataset_dir, 'test')\n",
    "\n",
    "\n",
    "for folder in [train_dir2,  test_dir2]:# validation_dir,\n",
    "    try:\n",
    "        shutil.rmtree(folder)\n",
    "        print(f\"Le dossier '{folder}' et son contenu ont été supprimés avec succès.\")\n",
    "    except OSError as e:\n",
    "        print(f\"{e}\")\n"
   ]
  },
  {
   "cell_type": "code",
   "execution_count": 36,
   "metadata": {},
   "outputs": [],
   "source": [
    "os_make_dir(train_dir2)\n",
    "# os_make_dir(validation_dir)\n",
    "os_make_dir(test_dir2)"
   ]
  },
  {
   "cell_type": "code",
   "execution_count": 37,
   "metadata": {},
   "outputs": [
    {
     "name": "stderr",
     "output_type": "stream",
     "text": [
      "100%|███████████████████████████████████████████████████████████████████████████████| 840/840 [00:02<00:00, 281.55it/s]\n"
     ]
    },
    {
     "name": "stdout",
     "output_type": "stream",
     "text": [
      "./Flipkart/classification/train\n",
      "Copie des images terminée.\n"
     ]
    },
    {
     "name": "stderr",
     "output_type": "stream",
     "text": [
      "100%|███████████████████████████████████████████████████████████████████████████████| 210/210 [00:00<00:00, 338.21it/s]"
     ]
    },
    {
     "name": "stdout",
     "output_type": "stream",
     "text": [
      "./Flipkart/classification/test\n",
      "Copie des images terminée.\n"
     ]
    },
    {
     "name": "stderr",
     "output_type": "stream",
     "text": [
      "\n"
     ]
    }
   ],
   "source": [
    "from tqdm import tqdm\n",
    "import numpy as np\n",
    "from keras.applications.vgg16 import VGG16, preprocess_input, decode_predictions\n",
    "from keras.preprocessing import image\n",
    "from keras.models import Sequential\n",
    "from keras.layers import Flatten, Dense, Dropout\n",
    "from keras.optimizers import Adam\n",
    "import cv2\n",
    "import shutil\n",
    "\n",
    "from tensorflow.keras.preprocessing.image import ImageDataGenerator, load_img, img_to_array\n",
    "\n",
    "\n",
    "# Pour mélanger les images, classées initalement par classe\n",
    "data   =  dfmarket.sample(frac=1, random_state=random_state).reset_index(drop=True)\n",
    "data.head()\n",
    "\n",
    "# Diviser les données en ensembles d'entraînement, de validation et de test\n",
    "train_data, test_data  =  train_test_split(data, test_size=0.2, random_state=random_state)\n",
    "# val_data, test_data    =  train_test_split(temp_data, test_size=0.5, random_state=random_state)\n",
    "\n",
    "\n",
    "\n",
    "# Prétraitement des images pour le modèle VGG16 (mise à l'échelle)\n",
    "def preprocess_vgg16(img_path):\n",
    "    img = load_img(img_path, target_size=(224, 224))\n",
    "    img_array = img # img_to_array(img)\n",
    "    #img_array = np.expand_dims(img_array, axis=0)\n",
    "    #img_array = img_array.reshape((img_array.shape[0], img_array.shape[1], img_array.shape[2]))\n",
    "    img_array = preprocess_input(img_array)\n",
    "    return img_array\n",
    "\n",
    "# def copy_images2(data, from_dir, dest_dir):\n",
    "#     for index, row in tqdm(data.iterrows(), total=len(data)):\n",
    "#         label      =  row['category1'].strip()\n",
    "#         image_path =  os_path_join(from_dir, row['image'])\n",
    "#         label_dir  =  os_path_join(dest_dir, label)        \n",
    "#         # Traitement des images\n",
    "#         img   = load_img(image_path, target_size=(224, 224)) # cv2.imread(image_path)\n",
    "#         #img   = img_to_array(img)     \n",
    "#         os_make_dir(label_dir)\n",
    "#         # Chemin \n",
    "#         chemin_source      =  os_path_join(from_dir, row['image'])\n",
    "#         chemin_destination =  os_path_join(label_dir, row['image'])\n",
    "#         # # Copie\n",
    "#         shutil.copy(chemin_source, chemin_destination)\n",
    "#         #cv2.imwrite(os_path_join(label_dir, row['image']), img)\n",
    "\n",
    "# extensions_images = ['.jpg', '.png', '.jpeg']\n",
    "# def copy_images2(data, from_dir, dest_dir):\n",
    "#     for index, row in tqdm(data.iterrows(), total=len(data)):\n",
    "#         label = row['category1'].strip()\n",
    "#         # Vérification de l'extension du fichier\n",
    "#         if any(row['image'].lower().endswith(ext) for ext in extensions_images):\n",
    "#             # Chemin \n",
    "#             chemin_source      =  os_path_join(from_dir, row['image'])\n",
    "#             # Convertir l'image en niveaux de gris\n",
    "#             image = Image.open(chemin_source)\n",
    "#             image_gray = image.convert(\"L\")\n",
    "#             label_dir      =  os_path_join(dest_dir, label)\n",
    "#             os_make_dir(label_dir)\n",
    "#             chemin_destination =  os_path_join(label_dir, row['image'])\n",
    "#                 # Enregistrer l'image convertie en niveaux de gris dans le dossier de destination\n",
    "#             image_gray.save(chemin_destination)\n",
    "#             # Copie\n",
    "#             # shutil.copy(chemin_source, chemin_destination)\n",
    "#     print(dest_dir)        \n",
    "#     print(\"Copie des images terminée.\")        \n",
    "# Utilisation de la fonction copy_images avec une barre de progression\n",
    "copy_images(train_data, IMG_FOLDER, train_dir2)\n",
    "copy_images(test_data, IMG_FOLDER, test_dir2)\n"
   ]
  },
  {
   "cell_type": "code",
   "execution_count": 38,
   "metadata": {},
   "outputs": [
    {
     "name": "stdout",
     "output_type": "stream",
     "text": [
      "./Flipkart/classification/train    contient : 840 images\n",
      "./Flipkart/classification/test     contient : 210 images\n"
     ]
    }
   ],
   "source": [
    "def count_files(directory):\n",
    "    total_files = 0\n",
    "    for root, dirs, files in os.walk(directory):\n",
    "        total_files += len(files)\n",
    "    return total_files\n",
    "\n",
    "print(f'{train_dir2:34} contient : {count_files(train_dir2)} images')\n",
    "print(f'{test_dir2:34} contient : {count_files(test_dir2)} images')"
   ]
  },
  {
   "cell_type": "code",
   "execution_count": 39,
   "metadata": {},
   "outputs": [
    {
     "name": "stdout",
     "output_type": "stream",
     "text": [
      "Found 840 files belonging to 7 classes.\n",
      "Using 672 files for training.\n",
      "Found 840 files belonging to 7 classes.\n",
      "Using 168 files for validation.\n",
      "Found 210 files belonging to 7 classes.\n"
     ]
    }
   ],
   "source": [
    "import tensorflow as tf\n",
    "\n",
    "batch_size = 16\n",
    "\n",
    "def dataset_fct(path, validation_split=0.2, data_type='training'):\n",
    "    dataset = tf.keras.utils.image_dataset_from_directory(\n",
    "        path,\n",
    "        labels='inferred',\n",
    "        label_mode='categorical',\n",
    "        batch_size=batch_size,\n",
    "        image_size=(224, 224),\n",
    "        shuffle=True,\n",
    "        seed=42,\n",
    "        validation_split=validation_split,\n",
    "        subset=data_type\n",
    "    )\n",
    "    return dataset\n",
    "\n",
    "\n",
    "train_dataset = dataset_fct(train_dir2, validation_split=0.2, data_type='training')\n",
    "validation_dataset = dataset_fct(train_dir2, validation_split=0.2, data_type='validation')\n",
    "test_dataset = dataset_fct(test_dir2, validation_split=0, data_type=None)"
   ]
  },
  {
   "cell_type": "code",
   "execution_count": 40,
   "metadata": {},
   "outputs": [
    {
     "data": {
      "text/plain": [
       "True"
      ]
     },
     "execution_count": 40,
     "metadata": {},
     "output_type": "execute_result"
    }
   ],
   "source": [
    "hasattr(tf.keras.layers, \"RandomFlip\")"
   ]
  },
  {
   "cell_type": "markdown",
   "metadata": {},
   "source": [
    "Une autre technique pour réduire **l'overfiting** consiste à introduire une régularisation des **Dropout** dans le réseau.\n",
    "\n",
    "Lorsque vous appliquez un **Dropout** à une couche, elle supprime de manière aléatoire (en définissant l'activation sur zéro) un certain nombre d'unités de sortie de la couche pendant le processus d'apprentissage. Le **Dropout** prend un nombre fractionnaire comme valeur d'entrée, sous la forme de ***0,1;  0,2; 0,4***, etc. Cela signifie abandonner ***10%, 20% ou 40%*** des unités de sortie au hasard de la couche appliquée."
   ]
  },
  {
   "cell_type": "code",
   "execution_count": 41,
   "metadata": {},
   "outputs": [],
   "source": [
    "import tensorflow as tf\n",
    "from tensorflow.keras.applications import VGG16\n",
    "from tensorflow.keras.layers import GlobalAveragePooling2D, Dense, Dropout\n",
    "from tensorflow.keras.models import Sequential\n",
    "from tensorflow.keras.layers.experimental import preprocessing\n",
    "\n",
    "def create_model_fct():\n",
    "\n",
    "    # Data augmentation\n",
    "    data_augmentation = Sequential([\n",
    "        preprocessing.RandomFlip(\"horizontal\", input_shape=(224, 224, 3)),\n",
    "        preprocessing.RandomRotation(0.1),\n",
    "        preprocessing.RandomZoom(0.1),\n",
    "    ])\n",
    "    \n",
    "    # Récupération modèle pré-entraîné\n",
    "    model_base = VGG16(include_top=False, weights=\"imagenet\", input_shape=(224, 224, 3))\n",
    "    for layer in model_base.layers:\n",
    "        layer.trainable = False\n",
    "\n",
    "    # Définition du nouveau modèle\n",
    "    model = Sequential([\n",
    "        data_augmentation,\n",
    "        # preprocessing.Rescaling(1./255),  # Normalisation des images\n",
    "        # preprocessing.Rescaling(1./127.5, offset=-1),\n",
    "        model_base,\n",
    "        GlobalAveragePooling2D(),\n",
    "        Dense(256, activation='relu'),\n",
    "        Dropout(0.5),\n",
    "        Dense(num_classes, activation='softmax')\n",
    "    ])\n",
    "\n",
    "    # Compilation du modèle\n",
    "    model.compile(loss=\"categorical_crossentropy\", optimizer='adam', metrics=[\"accuracy\"])\n",
    "    print(model.summary())\n",
    "\n",
    "    return model\n"
   ]
  },
  {
   "cell_type": "code",
   "execution_count": 42,
   "metadata": {},
   "outputs": [
    {
     "name": "stdout",
     "output_type": "stream",
     "text": [
      "Model: \"sequential_1\"\n",
      "_________________________________________________________________\n",
      " Layer (type)                Output Shape              Param #   \n",
      "=================================================================\n",
      " sequential (Sequential)     (None, 224, 224, 3)       0         \n",
      "                                                                 \n",
      " vgg16 (Functional)          (None, 7, 7, 512)         14714688  \n",
      "                                                                 \n",
      " global_average_pooling2d (G  (None, 512)              0         \n",
      " lobalAveragePooling2D)                                          \n",
      "                                                                 \n",
      " dense_4 (Dense)             (None, 256)               131328    \n",
      "                                                                 \n",
      " dropout (Dropout)           (None, 256)               0         \n",
      "                                                                 \n",
      " dense_5 (Dense)             (None, 7)                 1799      \n",
      "                                                                 \n",
      "=================================================================\n",
      "Total params: 14,847,815\n",
      "Trainable params: 133,127\n",
      "Non-trainable params: 14,714,688\n",
      "_________________________________________________________________\n",
      "None\n"
     ]
    }
   ],
   "source": [
    "model=create_model_fct()"
   ]
  },
  {
   "cell_type": "code",
   "execution_count": 43,
   "metadata": {},
   "outputs": [
    {
     "name": "stdout",
     "output_type": "stream",
     "text": [
      "Model: \"sequential_3\"\n",
      "_________________________________________________________________\n",
      " Layer (type)                Output Shape              Param #   \n",
      "=================================================================\n",
      " sequential_2 (Sequential)   (None, 224, 224, 3)       0         \n",
      "                                                                 \n",
      " vgg16 (Functional)          (None, 7, 7, 512)         14714688  \n",
      "                                                                 \n",
      " global_average_pooling2d_1   (None, 512)              0         \n",
      " (GlobalAveragePooling2D)                                        \n",
      "                                                                 \n",
      " dense_6 (Dense)             (None, 256)               131328    \n",
      "                                                                 \n",
      " dropout_1 (Dropout)         (None, 256)               0         \n",
      "                                                                 \n",
      " dense_7 (Dense)             (None, 7)                 1799      \n",
      "                                                                 \n",
      "=================================================================\n",
      "Total params: 14,847,815\n",
      "Trainable params: 133,127\n",
      "Non-trainable params: 14,714,688\n",
      "_________________________________________________________________\n",
      "None\n"
     ]
    }
   ],
   "source": [
    "# Création du modèle\n",
    "with tf.device('/gpu:0'): \n",
    "    model = create_model_fct()\n",
    "    # Création du callback\n",
    "    MODEL_NAME    = 'Model3_VGG16_aug.h5'\n",
    "    # Créer un callback pour sauvegarder le meilleur modèle basé sur la précision de validation\n",
    "    checkpoint = ModelCheckpoint(f'{model_save_path}/{MODEL_NAME}', monitor='val_loss', \n",
    "                                 verbose=1, save_best_only=True, mode='min')\n",
    "    es = EarlyStopping(monitor='val_loss', mode='min', verbose=1, patience=5)\n",
    "    callbacks_list = [checkpoint, es]\n"
   ]
  },
  {
   "cell_type": "code",
   "execution_count": 44,
   "metadata": {},
   "outputs": [
    {
     "name": "stdout",
     "output_type": "stream",
     "text": [
      "Epoch 1/20\n",
      "42/42 [==============================] - ETA: 0s - loss: 5.0721 - accuracy: 0.4405\n",
      "Epoch 1: val_loss improved from inf to 1.57978, saving model to ./Flipkart/model\\Model3_VGG16_aug.h5\n",
      "42/42 [==============================] - 144s 3s/step - loss: 5.0721 - accuracy: 0.4405 - val_loss: 1.5798 - val_accuracy: 0.7381\n",
      "Epoch 2/20\n",
      "42/42 [==============================] - ETA: 0s - loss: 1.8690 - accuracy: 0.6652\n",
      "Epoch 2: val_loss improved from 1.57978 to 1.32875, saving model to ./Flipkart/model\\Model3_VGG16_aug.h5\n",
      "42/42 [==============================] - 138s 3s/step - loss: 1.8690 - accuracy: 0.6652 - val_loss: 1.3287 - val_accuracy: 0.7381\n",
      "Epoch 3/20\n",
      "42/42 [==============================] - ETA: 0s - loss: 1.1194 - accuracy: 0.7024\n",
      "Epoch 3: val_loss improved from 1.32875 to 1.17710, saving model to ./Flipkart/model\\Model3_VGG16_aug.h5\n",
      "42/42 [==============================] - 138s 3s/step - loss: 1.1194 - accuracy: 0.7024 - val_loss: 1.1771 - val_accuracy: 0.7321\n",
      "Epoch 4/20\n",
      "42/42 [==============================] - ETA: 0s - loss: 0.8368 - accuracy: 0.7530\n",
      "Epoch 4: val_loss improved from 1.17710 to 0.99359, saving model to ./Flipkart/model\\Model3_VGG16_aug.h5\n",
      "42/42 [==============================] - 137s 3s/step - loss: 0.8368 - accuracy: 0.7530 - val_loss: 0.9936 - val_accuracy: 0.7262\n",
      "Epoch 5/20\n",
      "42/42 [==============================] - ETA: 0s - loss: 0.6958 - accuracy: 0.7798\n",
      "Epoch 5: val_loss did not improve from 0.99359\n",
      "42/42 [==============================] - 136s 3s/step - loss: 0.6958 - accuracy: 0.7798 - val_loss: 1.0586 - val_accuracy: 0.7440\n",
      "Epoch 6/20\n",
      "42/42 [==============================] - ETA: 0s - loss: 0.6067 - accuracy: 0.7976\n",
      "Epoch 6: val_loss improved from 0.99359 to 0.95122, saving model to ./Flipkart/model\\Model3_VGG16_aug.h5\n",
      "42/42 [==============================] - 138s 3s/step - loss: 0.6067 - accuracy: 0.7976 - val_loss: 0.9512 - val_accuracy: 0.7560\n",
      "Epoch 7/20\n",
      "42/42 [==============================] - ETA: 0s - loss: 0.5412 - accuracy: 0.8185\n",
      "Epoch 7: val_loss did not improve from 0.95122\n",
      "42/42 [==============================] - 138s 3s/step - loss: 0.5412 - accuracy: 0.8185 - val_loss: 0.9944 - val_accuracy: 0.7560\n",
      "Epoch 8/20\n",
      "42/42 [==============================] - ETA: 0s - loss: 0.5056 - accuracy: 0.8259\n",
      "Epoch 8: val_loss did not improve from 0.95122\n",
      "42/42 [==============================] - 133s 3s/step - loss: 0.5056 - accuracy: 0.8259 - val_loss: 1.0006 - val_accuracy: 0.7798\n",
      "Epoch 9/20\n",
      "42/42 [==============================] - ETA: 0s - loss: 0.4958 - accuracy: 0.8467\n",
      "Epoch 9: val_loss did not improve from 0.95122\n",
      "42/42 [==============================] - 136s 3s/step - loss: 0.4958 - accuracy: 0.8467 - val_loss: 0.9977 - val_accuracy: 0.7976\n",
      "Epoch 10/20\n",
      "42/42 [==============================] - ETA: 0s - loss: 0.3930 - accuracy: 0.8735\n",
      "Epoch 10: val_loss did not improve from 0.95122\n",
      "42/42 [==============================] - 131s 3s/step - loss: 0.3930 - accuracy: 0.8735 - val_loss: 1.0228 - val_accuracy: 0.7857\n",
      "Epoch 11/20\n",
      "42/42 [==============================] - ETA: 0s - loss: 0.3864 - accuracy: 0.8795\n",
      "Epoch 11: val_loss did not improve from 0.95122\n",
      "42/42 [==============================] - 137s 3s/step - loss: 0.3864 - accuracy: 0.8795 - val_loss: 1.1432 - val_accuracy: 0.7560\n",
      "Epoch 11: early stopping\n",
      "\n",
      "Temps de traitement: 25.11 minutes.\n",
      "CPU times: total: 2h 37min 1s\n",
      "Wall time: 25min 6s\n"
     ]
    }
   ],
   "source": [
    "%%time\n",
    "start_time = time.time()\n",
    "with tf.device('/gpu:0'): \n",
    "    history3_VGG16 = model.fit(train_dataset,\n",
    "                    validation_data=validation_dataset,\n",
    "                    batch_size=batch_size, epochs=EPOCH, callbacks=callbacks_list, verbose=1)\n",
    "\n",
    "end_time = time.time()\n",
    "processing_time = end_time - start_time\n",
    "print(\"\\nTemps de traitement:\", round(processing_time / 60, 2), \"minutes.\")"
   ]
  },
  {
   "cell_type": "code",
   "execution_count": 45,
   "metadata": {},
   "outputs": [
    {
     "name": "stdout",
     "output_type": "stream",
     "text": [
      "Model3_VGG16_aug.h5\n"
     ]
    }
   ],
   "source": [
    "print(MODEL_NAME)\n",
    "model3_VGG16 = load_model(os_path_join(model_save_path, f'{MODEL_NAME}'))"
   ]
  },
  {
   "cell_type": "code",
   "execution_count": 46,
   "metadata": {},
   "outputs": [
    {
     "name": "stdout",
     "output_type": "stream",
     "text": [
      "14/14 [==============================] - 34s 2s/step - loss: 1.0900 - accuracy: 0.8000\n",
      "\u001b[93m**************************************************\u001b[0m\n",
      "\u001b[93m\u001b[1mResultats du best model :  Model3_VGG16_aug.h5\u001b[0m\n",
      "\u001b[93m**************************************************\u001b[0m\n",
      "[INFO] Test Loss:      1.0900\n",
      "[INFO] Test accuracy:  80.00%\n",
      "\u001b[93m--------------------------------------------------\u001b[0m\n"
     ]
    },
    {
     "data": {
      "image/png": "[encoded data removed]",
      "text/plain": [
       "<Figure size 1000x500 with 2 Axes>"
      ]
     },
     "metadata": {},
     "output_type": "display_data"
    },
    {
     "name": "stdout",
     "output_type": "stream",
     "text": [
      "Evaluation terminée ...!\n"
     ]
    }
   ],
   "source": [
    "# train_generator = datagen.flow_from_directory(train_dir,\n",
    "#                                               batch_size=BATCH_SIZE,\n",
    "#                                               target_size=(IMGSIZE, IMGSIZE),\n",
    "#                                               class_mode='categorical')\n",
    "\n",
    "# validation_generator = datagen.flow_from_directory(\n",
    "#     validation_dir,\n",
    "#     batch_size=BATCH_SIZE,\n",
    "#     target_size=(IMGSIZE, IMGSIZE),\n",
    "#     class_mode='categorical')\n",
    "ari=0\n",
    "def evaluate2(model_save_path, MODEL_NAME, history, test_generator,  processing_time):\n",
    "    # start_time = time.time()\n",
    "    modele = load_model(os_path_join(model_save_path, f'{MODEL_NAME}'))\n",
    "    (test_loss, test_accuracy) = modele.evaluate(test_generator)\n",
    "    # Prédire les étiquettes sur les données de test\n",
    "\n",
    "    # y_pred_probs = modele.predict(test_generator)\n",
    "    # y_pred_labels = np.argmax(y_pred_probs, axis=1)\n",
    "    # y_test = modele.labels\n",
    "    # # Calculer l'ARI\n",
    "    # ari = adjusted_rand_score(y_test, y_pred_labels)\n",
    "\n",
    "    print(clr.color + '*' * 50 + clr.end)\n",
    "    print(clr.start + f'Resultats du best model :  {MODEL_NAME}' + clr.end)\n",
    "    print(clr.color + '*' * 50 + clr.end)\n",
    "    print(\"[INFO] Test Loss:      {:.4f}\".format(test_loss))\n",
    "    print(\"[INFO] Test accuracy:  {:.2f}%\".format(test_accuracy * 100))\n",
    "    print(clr.color + '-' * 50 + clr.end)\n",
    "    show_history(history)\n",
    "    plot_history(history, path=os_path_join(GRAPH_FOLDER, f'{MODEL_NAME[:-3]}_learning_curve.png'))\n",
    "    plt.close()\n",
    "    print('Evaluation terminée ...!')\n",
    "    # end_time = time.time()\n",
    "    # processing_time = end_time - start_time\n",
    "    # print(\"\\nTemps de traitement:\", round(processing_time / 60, 2), \"minutes.\")=0\n",
    "    performances_summary2(MODEL_NAME, ari, test_accuracy, processing_time, test_loss)\n",
    "    \n",
    "    return ari, test_accuracy, test_loss, processing_time\n",
    "\n",
    "\n",
    "ari, test_accuracy, test_loss, processing_time=evaluate2(model_save_path, MODEL_NAME, history3_VGG16, \n",
    "                                                        test_dataset, processing_time)"
   ]
  },
  {
   "cell_type": "code",
   "execution_count": 47,
   "metadata": {},
   "outputs": [
    {
     "name": "stdout",
     "output_type": "stream",
     "text": [
      "14/14 [==============================] - 33s 2s/step - loss: 1.0900 - accuracy: 0.8000\n",
      "\n",
      "Test Loss: 1.0900050401687622\n",
      "Test Accuracy: 0.800000011920929\n"
     ]
    }
   ],
   "source": [
    "# Evaluate the model on the test dataset\n",
    "test_loss, test_accuracy = model3_VGG16.evaluate(test_dataset, verbose=1)\n",
    "print(\"\\nTest Loss:\", test_loss)\n",
    "print(\"Test Accuracy:\", test_accuracy)"
   ]
  },
  {
   "cell_type": "markdown",
   "metadata": {},
   "source": [
    "### Bilan de la classification supervisée"
   ]
  },
  {
   "cell_type": "code",
   "execution_count": 48,
   "metadata": {},
   "outputs": [
    {
     "data": {
      "text/plain": [
       "['measures_Model1_VGG16.pickle',\n",
       " 'measures_Model2_VGG16_augmented.pickle',\n",
       " 'measures_Model3_VGG16_aug.pickle']"
      ]
     },
     "execution_count": 48,
     "metadata": {},
     "output_type": "execute_result"
    }
   ],
   "source": [
    "compare=list_pickles_files(f'{OUT_FOLDER}', prefix='measures_Model')\n",
    "compare"
   ]
  },
  {
   "cell_type": "code",
   "execution_count": 49,
   "metadata": {},
   "outputs": [
    {
     "data": {
      "text/html": [
       "<div>\n",
       "<style scoped>\n",
       "    .dataframe tbody tr th:only-of-type {\n",
       "        vertical-align: middle;\n",
       "    }\n",
       "\n",
       "    .dataframe tbody tr th {\n",
       "        vertical-align: top;\n",
       "    }\n",
       "\n",
       "    .dataframe thead th {\n",
       "        text-align: right;\n",
       "    }\n",
       "</style>\n",
       "<table border=\"1\" class=\"dataframe\">\n",
       "  <thead>\n",
       "    <tr style=\"text-align: right;\">\n",
       "      <th></th>\n",
       "      <th>Model</th>\n",
       "      <th>Accuracy</th>\n",
       "      <th>Loss</th>\n",
       "      <th>Time_min</th>\n",
       "    </tr>\n",
       "  </thead>\n",
       "  <tbody>\n",
       "    <tr>\n",
       "      <th>0</th>\n",
       "      <td>Model1_VGG16.h5</td>\n",
       "      <td>77.62%</td>\n",
       "      <td>6.716</td>\n",
       "      <td>15.57</td>\n",
       "    </tr>\n",
       "    <tr>\n",
       "      <th>0</th>\n",
       "      <td>Model2_VGG16_augmented.h5</td>\n",
       "      <td>77.14%</td>\n",
       "      <td>2.332</td>\n",
       "      <td>31.57</td>\n",
       "    </tr>\n",
       "    <tr>\n",
       "      <th>0</th>\n",
       "      <td>Model3_VGG16_aug.h5</td>\n",
       "      <td>80.00%</td>\n",
       "      <td>1.090</td>\n",
       "      <td>25.11</td>\n",
       "    </tr>\n",
       "  </tbody>\n",
       "</table>\n",
       "</div>"
      ],
      "text/plain": [
       "                       Model Accuracy   Loss Time_min\n",
       "0            Model1_VGG16.h5   77.62%  6.716    15.57\n",
       "0  Model2_VGG16_augmented.h5   77.14%  2.332    31.57\n",
       "0        Model3_VGG16_aug.h5   80.00%  1.090    25.11"
      ]
     },
     "execution_count": 49,
     "metadata": {},
     "output_type": "execute_result"
    }
   ],
   "source": [
    "list_data=[load_pickle(f'{OUT_FOLDER}/{filename}') for filename in ['measures_Model1_VGG16.pickle',\n",
    " 'measures_Model2_VGG16_augmented.pickle',\n",
    " 'measures_Model3_VGG16_aug.pickle']]\n",
    "\n",
    "resultat=pd.concat(list_data, axis=0)\n",
    "resultat.drop(columns=['ARI'], inplace=True)\n",
    "\n",
    "format_mapping = {\n",
    "    'Accuracy': '{:.2%}',\n",
    "    'Loss': '{:.3f}',\n",
    "    'Time_min': '{:.2f}',\n",
    "}\n",
    "\n",
    "# Appliquer les formats spécifiques à chaque colonne\n",
    "for col, format_str in format_mapping.items():\n",
    "    resultat[col] = resultat[col].apply(lambda x: format_str.format(x))\n",
    "resultat"
   ]
  },
  {
   "cell_type": "code",
   "execution_count": 50,
   "metadata": {},
   "outputs": [],
   "source": [
    "import dataframe_image as dfi\n",
    "dfi.export(resultat, imgPath+'Compare_CNN_Supervisee.png')"
   ]
  },
  {
   "cell_type": "markdown",
   "metadata": {},
   "source": [
    "---\n",
    "***La data aumentation*** est permis d'***améliorer*** la performance du modèle. En effet, nous remarquons des ***performances similaires*** sur les données d'***entrainement*** et de ***test***. Donc, il est en mesure de generaliser sur de nouvelles données. "
   ]
  },
  {
   "cell_type": "markdown",
   "metadata": {},
   "source": [
    "### <font color=\"#337da4\" id=\"4\">4. API </font>\n",
    "----------------------------"
   ]
  },
  {
   "cell_type": "code",
   "execution_count": 9,
   "metadata": {},
   "outputs": [
    {
     "name": "stdout",
     "output_type": "stream",
     "text": [
      "                              foodId  ...                                              image\n",
      "0  food_a656mk2a5dmqb2adiamu6beihduu  ...  https://www.edamam.com/food-img/a71/a718cf3c52...\n",
      "1  food_b753ithamdb8psbt0w2k9aquo06c  ...                                               None\n",
      "2  food_b3dyababjo54xobm6r8jzbghjgqe  ...  https://www.edamam.com/food-img/d88/d88b64d973...\n",
      "3  food_a9e0ghsamvoc45bwa2ybsa3gken9  ...                                               None\n",
      "4  food_an4jjueaucpus2a3u1ni8auhe7q9  ...                                               None\n",
      "5  food_bmu5dmkazwuvpaa5prh1daa8jxs0  ...  https://www.edamam.com/food-img/ab2/ab2459fc2a...\n",
      "6  food_alpl44taoyv11ra0lic1qa8xculi  ...                                               None\n",
      "7  food_byap67hab6evc3a0f9w1oag3s0qf  ...                                               None\n",
      "8  food_am5egz6aq3fpjlaf8xpkdbc2asis  ...                                               None\n",
      "9  food_bcz8rhiajk1fuva0vkfmeakbouc0  ...                                               None\n",
      "\n",
      "[10 rows x 5 columns]\n"
     ]
    }
   ],
   "source": [
    "!python script_api.py"
   ]
  },
  {
   "cell_type": "code",
   "execution_count": 10,
   "metadata": {},
   "outputs": [],
   "source": [
    "# %run script_api.py"
   ]
  }
 ],
 "metadata": {
  "accelerator": "GPU",
  "colab": {
   "collapsed_sections": [],
   "name": "Computer_Vision_CNN_DataAugmentation.ipynb",
   "provenance": []
  },
  "kernelspec": {
   "display_name": "projet6",
   "language": "python",
   "name": "projet6"
  },
  "language_info": {
   "codemirror_mode": {
    "name": "ipython",
    "version": 3
   },
   "file_extension": ".py",
   "mimetype": "text/x-python",
   "name": "python",
   "nbconvert_exporter": "python",
   "pygments_lexer": "ipython3",
   "version": "3.10.11"
  }
 },
 "nbformat": 4,
 "nbformat_minor": 4
}
